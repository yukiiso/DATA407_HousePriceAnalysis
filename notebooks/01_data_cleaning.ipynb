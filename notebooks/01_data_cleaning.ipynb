{
 "cells": [
  {
   "cell_type": "code",
   "execution_count": 1,
   "metadata": {},
   "outputs": [],
   "source": [
    "# Import libraries\n",
    "import numpy as np\n",
    "import pandas as pd\n",
    "import glob\n",
    "import os\n",
    "import seaborn as sns\n",
    "import matplotlib.pyplot as plt"
   ]
  },
  {
   "cell_type": "code",
   "execution_count": 2,
   "metadata": {},
   "outputs": [
    {
     "name": "stdout",
     "output_type": "stream",
     "text": [
      "Merge Completed!\n"
     ]
    }
   ],
   "source": [
    "data_dir = \"../data/encoded/housing_market/\"\n",
    "csv_files = glob.glob(os.path.join(data_dir, \"*.csv\"))\n",
    "dfs = [pd.read_csv(f, low_memory=False) for f in csv_files]\n",
    "merged_df = pd.concat(dfs, ignore_index=True)\n",
    "merged_df.to_csv(\"../data/encoded/housing_market_japan.csv\", index=False)\n",
    "print('Merge Completed!')"
   ]
  },
  {
   "cell_type": "code",
   "execution_count": 3,
   "metadata": {},
   "outputs": [
    {
     "data": {
      "text/html": [
       "<div>\n",
       "<style scoped>\n",
       "    .dataframe tbody tr th:only-of-type {\n",
       "        vertical-align: middle;\n",
       "    }\n",
       "\n",
       "    .dataframe tbody tr th {\n",
       "        vertical-align: top;\n",
       "    }\n",
       "\n",
       "    .dataframe thead th {\n",
       "        text-align: right;\n",
       "    }\n",
       "</style>\n",
       "<table border=\"1\" class=\"dataframe\">\n",
       "  <thead>\n",
       "    <tr style=\"text-align: right;\">\n",
       "      <th></th>\n",
       "      <th>Type</th>\n",
       "      <th>Price information classification</th>\n",
       "      <th>Area</th>\n",
       "      <th>City,Town,Ward,Village code</th>\n",
       "      <th>Prefecture</th>\n",
       "      <th>City,Town,Ward,Village</th>\n",
       "      <th>District</th>\n",
       "      <th>Nearest station : Name</th>\n",
       "      <th>Nearest station : Distance</th>\n",
       "      <th>Total transaction value</th>\n",
       "      <th>...</th>\n",
       "      <th>Purpose of use</th>\n",
       "      <th>Frontage road : Direction</th>\n",
       "      <th>Frontage road : Type</th>\n",
       "      <th>Frontage road : Width</th>\n",
       "      <th>City planning</th>\n",
       "      <th>Building coverage ratio</th>\n",
       "      <th>Floor area ratio</th>\n",
       "      <th>Transaction timing</th>\n",
       "      <th>Renovation</th>\n",
       "      <th>Transaction factors</th>\n",
       "    </tr>\n",
       "  </thead>\n",
       "  <tbody>\n",
       "    <tr>\n",
       "      <th>0</th>\n",
       "      <td>Pre-owned Condominiums, etc.</td>\n",
       "      <td>Contract Price Information</td>\n",
       "      <td>NaN</td>\n",
       "      <td>28101</td>\n",
       "      <td>Hyogo Prefecture</td>\n",
       "      <td>Higashinada Ward, Kobe City</td>\n",
       "      <td>Uzumoridai</td>\n",
       "      <td>Sumiyoshi(JR/Rokkoliner)</td>\n",
       "      <td>NaN</td>\n",
       "      <td>3000000</td>\n",
       "      <td>...</td>\n",
       "      <td>NaN</td>\n",
       "      <td>NaN</td>\n",
       "      <td>NaN</td>\n",
       "      <td>NaN</td>\n",
       "      <td>1 Exc Med</td>\n",
       "      <td>NaN</td>\n",
       "      <td>NaN</td>\n",
       "      <td>1st quarter 2021</td>\n",
       "      <td>NaN</td>\n",
       "      <td>NaN</td>\n",
       "    </tr>\n",
       "    <tr>\n",
       "      <th>1</th>\n",
       "      <td>Pre-owned Condominiums, etc.</td>\n",
       "      <td>Contract Price Information</td>\n",
       "      <td>NaN</td>\n",
       "      <td>28101</td>\n",
       "      <td>Hyogo Prefecture</td>\n",
       "      <td>Higashinada Ward, Kobe City</td>\n",
       "      <td>Uzumoridai</td>\n",
       "      <td>Sumiyoshi(JR/Rokkoliner)</td>\n",
       "      <td>NaN</td>\n",
       "      <td>4500000</td>\n",
       "      <td>...</td>\n",
       "      <td>NaN</td>\n",
       "      <td>NaN</td>\n",
       "      <td>NaN</td>\n",
       "      <td>NaN</td>\n",
       "      <td>1 Exc Med</td>\n",
       "      <td>NaN</td>\n",
       "      <td>NaN</td>\n",
       "      <td>1st quarter 2021</td>\n",
       "      <td>NaN</td>\n",
       "      <td>NaN</td>\n",
       "    </tr>\n",
       "    <tr>\n",
       "      <th>2</th>\n",
       "      <td>Residential Land(Land and Building)</td>\n",
       "      <td>Contract Price Information</td>\n",
       "      <td>NaN</td>\n",
       "      <td>28101</td>\n",
       "      <td>Hyogo Prefecture</td>\n",
       "      <td>Higashinada Ward, Kobe City</td>\n",
       "      <td>Okamoto</td>\n",
       "      <td>Okamoto(Hyogo)</td>\n",
       "      <td>15</td>\n",
       "      <td>38000000</td>\n",
       "      <td>...</td>\n",
       "      <td>NaN</td>\n",
       "      <td>East</td>\n",
       "      <td>Public Road</td>\n",
       "      <td>4.0</td>\n",
       "      <td>1 Exc Low</td>\n",
       "      <td>40.0</td>\n",
       "      <td>80.0</td>\n",
       "      <td>1st quarter 2021</td>\n",
       "      <td>NaN</td>\n",
       "      <td>NaN</td>\n",
       "    </tr>\n",
       "    <tr>\n",
       "      <th>3</th>\n",
       "      <td>Pre-owned Condominiums, etc.</td>\n",
       "      <td>Contract Price Information</td>\n",
       "      <td>NaN</td>\n",
       "      <td>28101</td>\n",
       "      <td>Hyogo Prefecture</td>\n",
       "      <td>Higashinada Ward, Kobe City</td>\n",
       "      <td>Okamoto</td>\n",
       "      <td>Settsu Motoyama</td>\n",
       "      <td>1</td>\n",
       "      <td>9200000</td>\n",
       "      <td>...</td>\n",
       "      <td>NaN</td>\n",
       "      <td>NaN</td>\n",
       "      <td>NaN</td>\n",
       "      <td>NaN</td>\n",
       "      <td>Neighborhood Comm</td>\n",
       "      <td>NaN</td>\n",
       "      <td>NaN</td>\n",
       "      <td>1st quarter 2021</td>\n",
       "      <td>NaN</td>\n",
       "      <td>NaN</td>\n",
       "    </tr>\n",
       "    <tr>\n",
       "      <th>4</th>\n",
       "      <td>Residential Land(Land and Building)</td>\n",
       "      <td>Contract Price Information</td>\n",
       "      <td>NaN</td>\n",
       "      <td>28101</td>\n",
       "      <td>Hyogo Prefecture</td>\n",
       "      <td>Higashinada Ward, Kobe City</td>\n",
       "      <td>Okamoto</td>\n",
       "      <td>Okamoto(Hyogo)</td>\n",
       "      <td>15</td>\n",
       "      <td>72000000</td>\n",
       "      <td>...</td>\n",
       "      <td>NaN</td>\n",
       "      <td>North</td>\n",
       "      <td>Public Road</td>\n",
       "      <td>6.0</td>\n",
       "      <td>1 Exc Low</td>\n",
       "      <td>40.0</td>\n",
       "      <td>80.0</td>\n",
       "      <td>1st quarter 2021</td>\n",
       "      <td>NaN</td>\n",
       "      <td>NaN</td>\n",
       "    </tr>\n",
       "  </tbody>\n",
       "</table>\n",
       "<p>5 rows × 29 columns</p>\n",
       "</div>"
      ],
      "text/plain": [
       "                                  Type Price information classification Area  \\\n",
       "0         Pre-owned Condominiums, etc.       Contract Price Information  NaN   \n",
       "1         Pre-owned Condominiums, etc.       Contract Price Information  NaN   \n",
       "2  Residential Land(Land and Building)       Contract Price Information  NaN   \n",
       "3         Pre-owned Condominiums, etc.       Contract Price Information  NaN   \n",
       "4  Residential Land(Land and Building)       Contract Price Information  NaN   \n",
       "\n",
       "   City,Town,Ward,Village code        Prefecture       City,Town,Ward,Village  \\\n",
       "0                        28101  Hyogo Prefecture  Higashinada Ward, Kobe City   \n",
       "1                        28101  Hyogo Prefecture  Higashinada Ward, Kobe City   \n",
       "2                        28101  Hyogo Prefecture  Higashinada Ward, Kobe City   \n",
       "3                        28101  Hyogo Prefecture  Higashinada Ward, Kobe City   \n",
       "4                        28101  Hyogo Prefecture  Higashinada Ward, Kobe City   \n",
       "\n",
       "     District    Nearest station : Name Nearest station : Distance  \\\n",
       "0  Uzumoridai  Sumiyoshi(JR/Rokkoliner)                        NaN   \n",
       "1  Uzumoridai  Sumiyoshi(JR/Rokkoliner)                        NaN   \n",
       "2     Okamoto            Okamoto(Hyogo)                         15   \n",
       "3     Okamoto           Settsu Motoyama                          1   \n",
       "4     Okamoto            Okamoto(Hyogo)                         15   \n",
       "\n",
       "   Total transaction value  ... Purpose of use Frontage road : Direction  \\\n",
       "0                  3000000  ...            NaN                       NaN   \n",
       "1                  4500000  ...            NaN                       NaN   \n",
       "2                 38000000  ...            NaN                      East   \n",
       "3                  9200000  ...            NaN                       NaN   \n",
       "4                 72000000  ...            NaN                     North   \n",
       "\n",
       "   Frontage road : Type Frontage road : Width      City planning  \\\n",
       "0                   NaN                   NaN          1 Exc Med   \n",
       "1                   NaN                   NaN          1 Exc Med   \n",
       "2           Public Road                   4.0          1 Exc Low   \n",
       "3                   NaN                   NaN  Neighborhood Comm   \n",
       "4           Public Road                   6.0          1 Exc Low   \n",
       "\n",
       "  Building coverage ratio Floor area ratio Transaction timing Renovation  \\\n",
       "0                     NaN              NaN   1st quarter 2021        NaN   \n",
       "1                     NaN              NaN   1st quarter 2021        NaN   \n",
       "2                    40.0             80.0   1st quarter 2021        NaN   \n",
       "3                     NaN              NaN   1st quarter 2021        NaN   \n",
       "4                    40.0             80.0   1st quarter 2021        NaN   \n",
       "\n",
       "  Transaction factors  \n",
       "0                 NaN  \n",
       "1                 NaN  \n",
       "2                 NaN  \n",
       "3                 NaN  \n",
       "4                 NaN  \n",
       "\n",
       "[5 rows x 29 columns]"
      ]
     },
     "execution_count": 3,
     "metadata": {},
     "output_type": "execute_result"
    }
   ],
   "source": [
    "df = pd.read_csv(\"../data/encoded/housing_market_japan.csv\", low_memory=False)\n",
    "df.head()"
   ]
  },
  {
   "cell_type": "code",
   "execution_count": 4,
   "metadata": {},
   "outputs": [
    {
     "data": {
      "text/plain": [
       "Index(['Type', 'Price information classification', 'Area',\n",
       "       'City,Town,Ward,Village code', 'Prefecture', 'City,Town,Ward,Village',\n",
       "       'District', 'Nearest station : Name', 'Nearest station : Distance',\n",
       "       'Total transaction value', 'Layout', 'Area(‡u)', 'Land : Price per ‡u',\n",
       "       'Land : Shape', 'Frontage', 'Building : Total floor area',\n",
       "       'Building : Construction year', 'Building : Structure', 'Use',\n",
       "       'Purpose of use', 'Frontage road : Direction', 'Frontage road : Type',\n",
       "       'Frontage road : Width', 'City planning', 'Building coverage ratio',\n",
       "       'Floor area ratio', 'Transaction timing', 'Renovation',\n",
       "       'Transaction factors'],\n",
       "      dtype='object')"
      ]
     },
     "execution_count": 4,
     "metadata": {},
     "output_type": "execute_result"
    }
   ],
   "source": [
    "df.columns"
   ]
  },
  {
   "cell_type": "code",
   "execution_count": 5,
   "metadata": {},
   "outputs": [],
   "source": [
    "# Fixed column names with unreadable characters (‡u), renaming them to \"m²\"\n",
    "df.rename(columns={\"Area(‡u)\": \"Area(m²)\", \"Land : Price per ‡u\": \"Land : Price per m²\"}, inplace=True)"
   ]
  },
  {
   "cell_type": "code",
   "execution_count": 6,
   "metadata": {},
   "outputs": [
    {
     "data": {
      "text/plain": [
       "5897242"
      ]
     },
     "execution_count": 6,
     "metadata": {},
     "output_type": "execute_result"
    }
   ],
   "source": [
    "len(df)"
   ]
  },
  {
   "cell_type": "markdown",
   "metadata": {},
   "source": [
    "# Data Filtering"
   ]
  },
  {
   "cell_type": "markdown",
   "metadata": {},
   "source": [
    "## Analysis of `Type`"
   ]
  },
  {
   "cell_type": "code",
   "execution_count": 7,
   "metadata": {},
   "outputs": [
    {
     "data": {
      "text/plain": [
       "array(['Pre-owned Condominiums, etc.',\n",
       "       'Residential Land(Land and Building)',\n",
       "       'Residential Land(Land Only)', 'Forest Land', 'Agricultural Land'],\n",
       "      dtype=object)"
      ]
     },
     "execution_count": 7,
     "metadata": {},
     "output_type": "execute_result"
    }
   ],
   "source": [
    "df['Type'].unique()"
   ]
  },
  {
   "cell_type": "markdown",
   "metadata": {},
   "source": [
    "### Description\n",
    "This dataset includes various types of land and properties, but only `Residential Land (Land and Building)` is retained.  \n",
    "\n",
    "#### **Reason for removal of other categories:**  \n",
    "- `Pre-owned Condominiums, etc.` → Excluded as condominiums follow different market dynamics.  \n",
    "- `Residential Land (Land Only)` → Excluded since vacant land does not include building costs.  \n",
    "- `Forest Land` & `Agricultural Land` → Excluded as they are irrelevant to the housing market.  \n",
    "\n",
    "**→ The dataset now focuses only on residential properties with both land and buildings.**\n"
   ]
  },
  {
   "cell_type": "code",
   "execution_count": 8,
   "metadata": {},
   "outputs": [],
   "source": [
    "df = df[df[\"Type\"] == \"Residential Land(Land and Building)\"]\n",
    "df.drop(columns=[\"Type\"], inplace=True) "
   ]
  },
  {
   "cell_type": "markdown",
   "metadata": {
    "jp-MarkdownHeadingCollapsed": true
   },
   "source": [
    "## Analysis of `Price information classification`"
   ]
  },
  {
   "cell_type": "code",
   "execution_count": 9,
   "metadata": {},
   "outputs": [
    {
     "data": {
      "text/plain": [
       "array(['Contract Price Information',\n",
       "       'Real Estate Transaction Price Information'], dtype=object)"
      ]
     },
     "execution_count": 9,
     "metadata": {},
     "output_type": "execute_result"
    }
   ],
   "source": [
    "df[\"Price information classification\"].unique()"
   ]
  },
  {
   "cell_type": "code",
   "execution_count": 10,
   "metadata": {},
   "outputs": [
    {
     "data": {
      "text/html": [
       "<div>\n",
       "<style scoped>\n",
       "    .dataframe tbody tr th:only-of-type {\n",
       "        vertical-align: middle;\n",
       "    }\n",
       "\n",
       "    .dataframe tbody tr th {\n",
       "        vertical-align: top;\n",
       "    }\n",
       "\n",
       "    .dataframe thead th {\n",
       "        text-align: right;\n",
       "    }\n",
       "</style>\n",
       "<table border=\"1\" class=\"dataframe\">\n",
       "  <thead>\n",
       "    <tr style=\"text-align: right;\">\n",
       "      <th></th>\n",
       "      <th>count</th>\n",
       "      <th>mean</th>\n",
       "      <th>std</th>\n",
       "      <th>min</th>\n",
       "      <th>25%</th>\n",
       "      <th>50%</th>\n",
       "      <th>75%</th>\n",
       "      <th>max</th>\n",
       "    </tr>\n",
       "    <tr>\n",
       "      <th>Price information classification</th>\n",
       "      <th></th>\n",
       "      <th></th>\n",
       "      <th></th>\n",
       "      <th></th>\n",
       "      <th></th>\n",
       "      <th></th>\n",
       "      <th></th>\n",
       "      <th></th>\n",
       "    </tr>\n",
       "  </thead>\n",
       "  <tbody>\n",
       "    <tr>\n",
       "      <th>Contract Price Information</th>\n",
       "      <td>161910.0</td>\n",
       "      <td>2.968836e+07</td>\n",
       "      <td>2.173824e+07</td>\n",
       "      <td>1000000.0</td>\n",
       "      <td>17000000.0</td>\n",
       "      <td>27000000.0</td>\n",
       "      <td>37000000.0</td>\n",
       "      <td>1.400000e+09</td>\n",
       "    </tr>\n",
       "    <tr>\n",
       "      <th>Real Estate Transaction Price Information</th>\n",
       "      <td>1998331.0</td>\n",
       "      <td>4.134878e+07</td>\n",
       "      <td>2.231876e+08</td>\n",
       "      <td>100.0</td>\n",
       "      <td>11000000.0</td>\n",
       "      <td>24000000.0</td>\n",
       "      <td>38000000.0</td>\n",
       "      <td>1.700000e+11</td>\n",
       "    </tr>\n",
       "  </tbody>\n",
       "</table>\n",
       "</div>"
      ],
      "text/plain": [
       "                                               count          mean  \\\n",
       "Price information classification                                     \n",
       "Contract Price Information                  161910.0  2.968836e+07   \n",
       "Real Estate Transaction Price Information  1998331.0  4.134878e+07   \n",
       "\n",
       "                                                    std        min  \\\n",
       "Price information classification                                     \n",
       "Contract Price Information                 2.173824e+07  1000000.0   \n",
       "Real Estate Transaction Price Information  2.231876e+08      100.0   \n",
       "\n",
       "                                                  25%         50%         75%  \\\n",
       "Price information classification                                                \n",
       "Contract Price Information                 17000000.0  27000000.0  37000000.0   \n",
       "Real Estate Transaction Price Information  11000000.0  24000000.0  38000000.0   \n",
       "\n",
       "                                                    max  \n",
       "Price information classification                         \n",
       "Contract Price Information                 1.400000e+09  \n",
       "Real Estate Transaction Price Information  1.700000e+11  "
      ]
     },
     "execution_count": 10,
     "metadata": {},
     "output_type": "execute_result"
    }
   ],
   "source": [
    "df.groupby(\"Price information classification\")[\"Total transaction value\"].describe()"
   ]
  },
  {
   "cell_type": "code",
   "execution_count": 11,
   "metadata": {},
   "outputs": [
    {
     "data": {
      "image/png": "[encoded data removed]",
      "text/plain": [
       "<Figure size 1000x500 with 1 Axes>"
      ]
     },
     "metadata": {},
     "output_type": "display_data"
    }
   ],
   "source": [
    "plt.figure(figsize=(10,5))\n",
    "sns.boxplot(data=df, x=\"Price information classification\", y=\"Total transaction value\")\n",
    "plt.yscale(\"log\")\n",
    "plt.xlabel(\"Price Information Classification\")\n",
    "plt.ylabel(\"Total Transaction Value (log scale)\")\n",
    "plt.show()"
   ]
  },
  {
   "cell_type": "markdown",
   "metadata": {},
   "source": [
    "### Description\n",
    "\n",
    "The table above shows the statistical summary of transaction values for each price classification after filtering by property type.  \n",
    "\n",
    "- `Contract Price Information` and `Real Estate Transaction Price Information` have **similar median values**, but `Real Estate Transaction Price Information` exhibits greater variability.  \n",
    "- The **minimum value for `Real Estate Transaction Price Information` is extremely low (100 JPY)**, suggesting the presence of unrealistic or erroneous transactions.  \n",
    "- The **standard deviation for `Real Estate Transaction Price Information` is significantly larger**, indicating a wider range of transaction values.  \n",
    "\n",
    "The boxplot below visualizes these differences:  \n",
    "- `Contract Price Information` (blue) has a **narrower distribution**, with fewer extreme values.  \n",
    "- `Real Estate Transaction Price Information` (orange) **shows a broader spread**, including significantly lower transactions.  \n",
    "\n",
    "**→ `Contract Price Information` reflects contract values rather than actual transaction prices.**  \n",
    "**To maintain consistency in market analysis, only `Real Estate Transaction Price Information` will be used.**  "
   ]
  },
  {
   "cell_type": "code",
   "execution_count": 12,
   "metadata": {},
   "outputs": [],
   "source": [
    "df = df[df[\"Price information classification\"] == \"Real Estate Transaction Price Information\"]\n",
    "df.drop(columns=[\"Price information classification\"], inplace=True)"
   ]
  },
  {
   "cell_type": "markdown",
   "metadata": {
    "jp-MarkdownHeadingCollapsed": true
   },
   "source": [
    "## Analysis of `Area`"
   ]
  },
  {
   "cell_type": "code",
   "execution_count": 13,
   "metadata": {},
   "outputs": [
    {
     "data": {
      "text/plain": [
       "array(['Residential Area', 'Commercial Area', 'Industrial Area',\n",
       "       'Potential Residential Area'], dtype=object)"
      ]
     },
     "execution_count": 13,
     "metadata": {},
     "output_type": "execute_result"
    }
   ],
   "source": [
    "df[\"Area\"].unique()"
   ]
  },
  {
   "cell_type": "markdown",
   "metadata": {},
   "source": [
    "### Description\n",
    "\n",
    "This dataset includes different types of areas, but only `Residential Area` is retained.  \n",
    "\n",
    "#### **Reason for removal of other categories:**  \n",
    "- **`Commercial Area`** → Excluded since commercial properties follow different pricing and demand dynamics.  \n",
    "- **`Industrial Area`** → Excluded as industrial zones are not relevant to residential housing prices.  \n",
    "- **`Potential Residential Area`** → Excluded because these areas may not yet have established housing markets or infrastructure.  \n",
    "\n",
    "**→ The dataset now focuses only on established residential areas to ensure accurate housing market analysis.**\n"
   ]
  },
  {
   "cell_type": "code",
   "execution_count": 14,
   "metadata": {},
   "outputs": [],
   "source": [
    "df = df[df[\"Area\"] == \"Residential Area\"]\n",
    "df.drop(columns=[\"Area\"], inplace=True)  "
   ]
  },
  {
   "cell_type": "markdown",
   "metadata": {
    "jp-MarkdownHeadingCollapsed": true
   },
   "source": [
    "## Analysis of `City,Town,Ward,Village code`"
   ]
  },
  {
   "cell_type": "code",
   "execution_count": 15,
   "metadata": {},
   "outputs": [
    {
     "data": {
      "text/plain": [
       "array([28101, 28102, 28105, ...,  6426,  6428,  6461], shape=(1887,))"
      ]
     },
     "execution_count": 15,
     "metadata": {},
     "output_type": "execute_result"
    }
   ],
   "source": [
    "df[\"City,Town,Ward,Village code\"].unique()"
   ]
  },
  {
   "cell_type": "markdown",
   "metadata": {},
   "source": [
    "### Description\n",
    "\n",
    "This column contains numerical codes assigned to cities, towns, wards, and villages.  \n",
    "In this analysis, data will be grouped at the **prefecture level** rather than the city level.  \n",
    "- Grouping at the city level would make the analysis too granular and may lead to insufficient data in some regions.  \n",
    "- Since the `Prefecture` column already provides location information, this code is unnecessary.  \n",
    "\n",
    "**→ This column will be removed as it is not needed for the prefecture-level analysis.**"
   ]
  },
  {
   "cell_type": "code",
   "execution_count": 16,
   "metadata": {},
   "outputs": [],
   "source": [
    "df.drop(columns=[\"City,Town,Ward,Village code\"], inplace=True)"
   ]
  },
  {
   "cell_type": "markdown",
   "metadata": {
    "jp-MarkdownHeadingCollapsed": true
   },
   "source": [
    "## Analysis of `Prefecture`"
   ]
  },
  {
   "cell_type": "code",
   "execution_count": 17,
   "metadata": {},
   "outputs": [
    {
     "data": {
      "text/plain": [
       "array(['Hyogo Prefecture', 'Ibaraki Prefecture', 'Tokushima Prefecture',\n",
       "       'Aichi Prefecture', 'Ehime Prefecture', 'Niigata Prefecture',\n",
       "       'Saitama Prefecture', 'Miyagi Prefecture', 'Kyoto Prefecture',\n",
       "       'Saga Prefecture', 'Okayama Prefecture', 'Wakayama Prefecture',\n",
       "       'Kochi Prefecture', 'Miyazaki Prefecture', 'Aomori Prefecture',\n",
       "       'Tottori Prefecture', 'Osaka Prefecture', 'Mie Prefecture',\n",
       "       'Oita Prefecture', 'Okinawa Prefecture', 'Shizuoka Prefecture',\n",
       "       'Gifu Prefecture', 'Chiba Prefecture', 'Nara Prefecture',\n",
       "       'Shiga Prefecture', 'Kagoshima Prefecture', 'Gunma Prefecture',\n",
       "       'Toyama Prefecture', 'Hiroshima Prefecture', 'Shimane Prefecture',\n",
       "       'Fukuoka Prefecture', 'Nagasaki Prefecture', 'Tokyo', 'Hokkaido',\n",
       "       'Fukushima Prefecture', 'Yamaguchi Prefecture',\n",
       "       'Nagano Prefecture', 'Ishikawa Prefecture', 'Yamanashi Prefecture',\n",
       "       'Iwate Prefecture', 'Tochigi Prefecture', 'Fukui Prefecture',\n",
       "       'Kumamoto Prefecture', 'Kanagawa Prefecture', 'Akita Prefecture',\n",
       "       'Kagawa Prefecture', 'Yamagata Prefecture'], dtype=object)"
      ]
     },
     "execution_count": 17,
     "metadata": {},
     "output_type": "execute_result"
    }
   ],
   "source": [
    "df[\"Prefecture\"].unique()"
   ]
  },
  {
   "cell_type": "markdown",
   "metadata": {},
   "source": [
    "### Description\n",
    "\n",
    "This column represents the prefecture names in Japan.  \n",
    "It is essential for **grouping and analyzing housing prices at the prefecture level**.  \n",
    "\n",
    "#### **Points to consider:**\n",
    "- The naming format is inconsistent: some entries include `\"Prefecture\"` (e.g., `\"Hyogo Prefecture\"`), while others do not (e.g., `\"Tokyo\"`, `\"Hokkaido\"`).\n",
    "- **To maintain consistency, all entries should follow the same format** (either with or without `\"Prefecture\"`).\n",
    "- Prefectures will be used for grouping and market price analysis.\n",
    "\n",
    "**→ The naming format will be standardized to ensure consistency in analysis.**"
   ]
  },
  {
   "cell_type": "code",
   "execution_count": 18,
   "metadata": {},
   "outputs": [],
   "source": [
    "# Standardizing prefecture names by ensuring all entries either include or exclude \"Prefecture\"\n",
    "df[\"Prefecture\"] = df[\"Prefecture\"].str.replace(\" Prefecture\", \"\", regex=False)  # Removing \" Prefecture\" for consistency"
   ]
  },
  {
   "cell_type": "markdown",
   "metadata": {
    "jp-MarkdownHeadingCollapsed": true
   },
   "source": [
    "## Analysis of `City,Town,Ward,Village`"
   ]
  },
  {
   "cell_type": "code",
   "execution_count": 19,
   "metadata": {},
   "outputs": [
    {
     "data": {
      "text/plain": [
       "array(['Higashinada Ward, Kobe City', 'Nada Ward, Kobe City',\n",
       "       'Hyogo Ward, Kobe City', ..., 'Mikawa Town, Higashitagawa County',\n",
       "       'Shonai Town, Higashitagawa County', 'Yuza Town, Akumi County'],\n",
       "      shape=(1873,), dtype=object)"
      ]
     },
     "execution_count": 19,
     "metadata": {},
     "output_type": "execute_result"
    }
   ],
   "source": [
    "df[\"City,Town,Ward,Village\"].unique()"
   ]
  },
  {
   "cell_type": "markdown",
   "metadata": {},
   "source": [
    "### Description\n",
    "\n",
    "This column represents the specific municipality within each prefecture, including cities, towns, wards, and villages.  \n",
    "\n",
    "#### **Points to consider:**\n",
    "- The analysis is conducted at the **prefecture level**, not the city/town level.  \n",
    "- **Keeping this column would make the grouping too granular**, leading to smaller data subsets that may lack statistical significance.  \n",
    "- **Prefecture-level grouping provides a clearer overall market trend**, while city-level grouping could fragment the data too much.  \n",
    "\n",
    "**→ This column will be removed as the analysis focuses on the prefecture level.**"
   ]
  },
  {
   "cell_type": "code",
   "execution_count": 20,
   "metadata": {},
   "outputs": [],
   "source": [
    "df.drop(columns=[\"City,Town,Ward,Village\"], inplace=True)"
   ]
  },
  {
   "cell_type": "markdown",
   "metadata": {
    "jp-MarkdownHeadingCollapsed": true
   },
   "source": [
    "## Analysis of `District`"
   ]
  },
  {
   "cell_type": "code",
   "execution_count": 21,
   "metadata": {},
   "outputs": [
    {
     "data": {
      "text/plain": [
       "array(['Uozakikitamachi', 'Uozakinakamachi', 'Uozakinishimachi', ...,\n",
       "       'Hiko', 'Oharada', 'Eji'], shape=(56462,), dtype=object)"
      ]
     },
     "execution_count": 21,
     "metadata": {},
     "output_type": "execute_result"
    }
   ],
   "source": [
    "df[\"District\"].unique()"
   ]
  },
  {
   "cell_type": "markdown",
   "metadata": {},
   "source": [
    "### Description\n",
    "\n",
    "This column represents smaller subdivisions within cities, such as districts or neighborhoods.  \n",
    "\n",
    "#### **Points to consider:**\n",
    "- The analysis is conducted at the **prefecture level**, not at the district or neighborhood level.  \n",
    "- **Keeping this column would make the data too fragmented**, reducing the statistical significance of regional trends.  \n",
    "- **Prefecture-level grouping is sufficient for understanding market trends**, while district-level analysis would require a different approach with more granular data.  \n",
    "\n",
    "**→ This column will be removed as the analysis focuses on the prefecture level.**\n"
   ]
  },
  {
   "cell_type": "code",
   "execution_count": 22,
   "metadata": {},
   "outputs": [],
   "source": [
    "df.drop(columns=[\"District\"], inplace=True)"
   ]
  },
  {
   "cell_type": "markdown",
   "metadata": {
    "jp-MarkdownHeadingCollapsed": true
   },
   "source": [
    "## Analysis of `Nearest station : Name`"
   ]
  },
  {
   "cell_type": "code",
   "execution_count": 23,
   "metadata": {},
   "outputs": [
    {
     "data": {
      "text/plain": [
       "array(['Uozaki', 'Ogi(Hyogo)', 'Sumiyoshi(JR/Rokkoliner)', ..., 'Fukura',\n",
       "       'Yuza', 'Mega(Yamagata)'], shape=(8255,), dtype=object)"
      ]
     },
     "execution_count": 23,
     "metadata": {},
     "output_type": "execute_result"
    }
   ],
   "source": [
    "df[\"Nearest station : Name\"].unique()"
   ]
  },
  {
   "cell_type": "markdown",
   "metadata": {},
   "source": [
    "### Description\n",
    "\n",
    "This column represents the name of the nearest train or subway station for each property.  \n",
    "\n",
    "#### **Points to consider:**\n",
    "- **Proximity to public transportation is a key factor in real estate prices**, so this column may be useful.  \n",
    "- However, **station names alone are not numerically analyzable** and would require additional processing (e.g., categorization or distance-based grouping).  \n",
    "- **Instead of using station names directly, analyzing `Nearest station : Distance` might be more effective** for measuring accessibility.\n",
    "\n",
    "**→ This column will be removed unless station names are explicitly needed for analysis.**\n"
   ]
  },
  {
   "cell_type": "code",
   "execution_count": 24,
   "metadata": {},
   "outputs": [],
   "source": [
    "df.drop(columns=[\"Nearest station : Name\"], inplace=True)"
   ]
  },
  {
   "cell_type": "markdown",
   "metadata": {
    "jp-MarkdownHeadingCollapsed": true
   },
   "source": [
    "## Analysis of `Nearest station : Distance`"
   ]
  },
  {
   "cell_type": "code",
   "execution_count": 25,
   "metadata": {},
   "outputs": [
    {
     "data": {
      "text/plain": [
       "array(['8', '14', '10', '13', '6', '11', '9', '12', '5', '2', '7', '4',\n",
       "       '3', '26', '24', '30-60minutes', '29', '23', '25', '15', '18',\n",
       "       '16', '19', '28', '1', '20', '21', nan, '17', '2H-', '1H30-2H',\n",
       "       '1H-1H30', '27', '0', '22'], dtype=object)"
      ]
     },
     "execution_count": 25,
     "metadata": {},
     "output_type": "execute_result"
    }
   ],
   "source": [
    "df[\"Nearest station : Distance\"].unique()"
   ]
  },
  {
   "cell_type": "markdown",
   "metadata": {},
   "source": [
    "### Description\n",
    "\n",
    "This column represents the walking distance to the nearest train or subway station.  \n",
    "\n",
    "- Values are a mix of **numeric minutes and categorical ranges** (e.g., `\"30-60minutes\"`, `\"2H-\"`).  \n",
    "- **Categorizing distances** into meaningful groups improves consistency and allows better price correlation analysis.  \n",
    "- **Converted into five categories**: `\"Very Close\"`, `\"Close\"`, `\"Moderate\"`, `\"Far\"`, `\"Very Far\"`.  \n",
    "\n",
    "**→ The original column is replaced with a categorized version for better analysis.**\n"
   ]
  },
  {
   "cell_type": "code",
   "execution_count": 26,
   "metadata": {},
   "outputs": [],
   "source": [
    "# Converting 'Nearest station : Distance' into categories\n",
    "def categorize_distance(value):\n",
    "    if pd.isna(value):  # Keep NaN values\n",
    "        return np.nan\n",
    "    elif isinstance(value, str) and \"-\" in value:\n",
    "        return \"Very Far\"\n",
    "    else:\n",
    "        value = int(value)  # Convert to integer if numeric\n",
    "        if value <= 5:\n",
    "            return \"Very Close\"\n",
    "        elif value <= 10:\n",
    "            return \"Close\"\n",
    "        elif value <= 20:\n",
    "            return \"Moderate\"\n",
    "        elif value <= 30:\n",
    "            return \"Far\"\n",
    "        else:\n",
    "            return \"Very Far\"\n",
    "\n",
    "df[\"Station Distance Category\"] = df[\"Nearest station : Distance\"].apply(categorize_distance)\n",
    "df.drop(columns=[\"Nearest station : Distance\"], inplace=True)  # Remove original column if necessary\n"
   ]
  },
  {
   "cell_type": "markdown",
   "metadata": {
    "jp-MarkdownHeadingCollapsed": true
   },
   "source": [
    "## Analysis of `Total transaction value`"
   ]
  },
  {
   "cell_type": "markdown",
   "metadata": {},
   "source": [
    "### Description\n",
    "\n",
    "This column represents the total transaction value of each real estate transaction.  \n",
    "\n",
    "- **One of the most important variables** in the analysis, as it directly reflects market prices.  \n",
    "- **Continuous numeric data**, essential for calculating averages and identifying price trends.  \n",
    "- **Will be retained as a key feature** for market analysis and price estimation.  \n"
   ]
  },
  {
   "cell_type": "markdown",
   "metadata": {
    "jp-MarkdownHeadingCollapsed": true
   },
   "source": [
    "## Analysis of `Layout`"
   ]
  },
  {
   "cell_type": "code",
   "execution_count": 27,
   "metadata": {},
   "outputs": [
    {
     "data": {
      "text/plain": [
       "array([nan], dtype=object)"
      ]
     },
     "execution_count": 27,
     "metadata": {},
     "output_type": "execute_result"
    }
   ],
   "source": [
    "df[\"Layout\"].unique()"
   ]
  },
  {
   "cell_type": "code",
   "execution_count": 28,
   "metadata": {},
   "outputs": [
    {
     "data": {
      "text/plain": [
       "(np.int64(1824496), 1824496)"
      ]
     },
     "execution_count": 28,
     "metadata": {},
     "output_type": "execute_result"
    }
   ],
   "source": [
    "df[\"Layout\"].isna().sum(), len(df)"
   ]
  },
  {
   "cell_type": "markdown",
   "metadata": {},
   "source": [
    "### Description\n",
    "\n",
    "This column represents the layout of the property (e.g., \"3LDK\", \"2DK\").  \n",
    "\n",
    "- During the data processing steps, **all rows containing `Layout` values were removed** due to filtering conditions.  \n",
    "- As a result, `Layout` is now entirely empty (`NaN` for all records).  \n",
    "- **Since no remaining rows contain valid `Layout` data, this column will be removed.**  \n"
   ]
  },
  {
   "cell_type": "code",
   "execution_count": 29,
   "metadata": {},
   "outputs": [],
   "source": [
    "df.drop(columns=[\"Layout\"], inplace=True)"
   ]
  },
  {
   "cell_type": "markdown",
   "metadata": {
    "jp-MarkdownHeadingCollapsed": true
   },
   "source": [
    "## Analysis of `Area(m²)`"
   ]
  },
  {
   "cell_type": "code",
   "execution_count": 30,
   "metadata": {},
   "outputs": [
    {
     "data": {
      "text/plain": [
       "array(['55', '600', '75', '110', '65', '180', '60', '50', '85', '130',\n",
       "       '115', '125', '45', '300', '160', '40', '270', '560', '410', '390',\n",
       "       '430', '80', '90', '100', '105', '70', '95', '530', '210', '150',\n",
       "       '610', '250', '140', '195', '190', '1300', '135', '340', '120',\n",
       "       '220', '290', '165', '990', '240', '370', '360', '260', '145',\n",
       "       '200', '440', '280', '170', '30', '175', '185', '470', '1400',\n",
       "       '460', '1000', '1200', '510', '320', '500', '590', '550', '480',\n",
       "       '450', '330', '680', '35', '1100', '155', '710', '780', '230',\n",
       "       '420', '310', '520', '570', '2,000 ‡u or greater.', '350', '1500',\n",
       "       '380', '490', '730', '400', '860', '620', '1800', '740', '630',\n",
       "       '890', '830', '810', '800', '1600', '790', '770', '1900', '540',\n",
       "       '640', '920', '670', '690', '650', '1700', '660', '930', '870',\n",
       "       '580', '900', '880', '700', '760', '750', '940', '25', '15', '950',\n",
       "       '910', '720', '980', '20', '960', '970', '850', '820', '840', '10'],\n",
       "      dtype=object)"
      ]
     },
     "execution_count": 30,
     "metadata": {},
     "output_type": "execute_result"
    }
   ],
   "source": [
    "df[\"Area(m²)\"].unique()"
   ]
  },
  {
   "cell_type": "markdown",
   "metadata": {},
   "source": [
    "### Description\n",
    "\n",
    "This column represents the total floor area of the property in square meters (m²).  \n",
    "\n",
    "- **A wide range of values**, from **as low as 10 m² to over 2,000 m²**, indicates a mix of different property types.  \n",
    "- **Extremely large values (e.g., \"2,000 ‡u or greater.\") require cleaning and categorization.**  \n",
    "- **Area will be categorized into meaningful size groups** to facilitate price analysis.  \n",
    "- **Urban and rural areas have different typical sizes, but a nationwide categorization will be used.**  \n",
    "\n",
    "**→ The original numeric values are replaced with categorical groups for better analysis.**\n"
   ]
  },
  {
   "cell_type": "code",
   "execution_count": 31,
   "metadata": {},
   "outputs": [],
   "source": [
    "def categorize_area(area):\n",
    "    if pd.isna(area):\n",
    "        return np.nan\n",
    "    area = float(area.replace(\",\", \"\").split()[0]) if isinstance(area, str) else area  # 文字列処理\n",
    "    if area <= 30:\n",
    "        return \"Very Small\"\n",
    "    elif area <= 60:\n",
    "        return \"Small\"\n",
    "    elif area <= 100:\n",
    "        return \"Medium\"\n",
    "    elif area <= 200:\n",
    "        return \"Large\"\n",
    "    else:\n",
    "        return \"Very Large\"\n",
    "\n",
    "df[\"Area Category\"] = df[\"Area(m²)\"].apply(categorize_area)\n",
    "df.drop(columns=[\"Area(m²)\"], inplace=True)"
   ]
  },
  {
   "cell_type": "markdown",
   "metadata": {
    "jp-MarkdownHeadingCollapsed": true
   },
   "source": [
    "## Analysis of `Land : Price per m²`"
   ]
  },
  {
   "cell_type": "code",
   "execution_count": 32,
   "metadata": {},
   "outputs": [
    {
     "data": {
      "text/plain": [
       "array([nan])"
      ]
     },
     "execution_count": 32,
     "metadata": {},
     "output_type": "execute_result"
    }
   ],
   "source": [
    "df[\"Land : Price per m²\"].unique()"
   ]
  },
  {
   "cell_type": "markdown",
   "metadata": {},
   "source": [
    "### Description\n",
    "\n",
    "This column represents the price of land per square meter (m²).  \n",
    "\n",
    "- **All values have been removed during previous processing steps.**  \n",
    "- **Since no valid data remains in this column, it will be removed.**  \n"
   ]
  },
  {
   "cell_type": "code",
   "execution_count": 33,
   "metadata": {},
   "outputs": [],
   "source": [
    "df.drop(columns=[\"Land : Price per m²\"], inplace=True)"
   ]
  },
  {
   "cell_type": "markdown",
   "metadata": {
    "jp-MarkdownHeadingCollapsed": true
   },
   "source": [
    "## Analysis of `Land : Shape`"
   ]
  },
  {
   "cell_type": "code",
   "execution_count": 34,
   "metadata": {},
   "outputs": [
    {
     "data": {
      "text/plain": [
       "array(['Semi-rectangular Shaped', 'Irregular Shaped',\n",
       "       'Rectangular Shaped', 'Semi-trapezoidal Shaped',\n",
       "       'Semi-square Shaped', 'Semi-shaped', 'Trapezoidal Shaped',\n",
       "       '&quot;Flag-shaped&quot; etc.', 'Square Shaped', nan], dtype=object)"
      ]
     },
     "execution_count": 34,
     "metadata": {},
     "output_type": "execute_result"
    }
   ],
   "source": [
    "df[\"Land : Shape\"].unique()"
   ]
  },
  {
   "cell_type": "markdown",
   "metadata": {},
   "source": [
    "### Description\n",
    "\n",
    "This column represents the shape of the land, which may impact its usability and market value.  \n",
    "\n",
    "- **To simplify the analysis, land shape is categorized into two groups:**  \n",
    "  - **\"Regular\" (e.g., \"Rectangular Shaped\", \"Square Shaped\")** → Easier to develop and resell.  \n",
    "  - **\"Irregular\" (e.g., \"Irregular Shaped\", \"Trapezoidal Shaped\", \"Flag-shaped\")** → May have lower market value.  \n",
    "- **This categorization allows for a price comparison between regular and irregular plots.**  \n",
    "\n",
    "**→ The original detailed categories are replaced with \"Regular\" and \"Irregular\" for better analysis.**  "
   ]
  },
  {
   "cell_type": "code",
   "execution_count": 35,
   "metadata": {},
   "outputs": [],
   "source": [
    "def categorize_land_shape(shape):\n",
    "    if pd.isna(shape):\n",
    "        return np.nan  \n",
    "    shape = shape.lower() \n",
    "    if \"rectangular\" in shape or \"square\" in shape:\n",
    "        return \"Regular\"\n",
    "    else:\n",
    "        return \"Irregular\"\n",
    "\n",
    "df[\"Land Shape Category\"] = df[\"Land : Shape\"].apply(categorize_land_shape)\n",
    "df.drop(columns=[\"Land : Shape\"], inplace=True)  "
   ]
  },
  {
   "cell_type": "markdown",
   "metadata": {
    "jp-MarkdownHeadingCollapsed": true
   },
   "source": [
    "## Analysis of `Frontage`"
   ]
  },
  {
   "cell_type": "code",
   "execution_count": 36,
   "metadata": {},
   "outputs": [
    {
     "data": {
      "text/plain": [
       "array(['5.7', '25', '5', '2', '7.1', '8', '5.6', '10.2', '5.1', '4.7',\n",
       "       '7.5', '3.8', '12.8', '6', '3', '4', '11.6', '7', '13.2', '9.2',\n",
       "       '13.7', '4.1', '3.9', '6.4', '17', '17.8', '13', '18', '10', '9.1',\n",
       "       '5.5', '6.5', nan, '5.3', '4.4', '4.3', '6.1', '6.2', '7.6', '7.9',\n",
       "       '11.4', '5.2', '29', '4.6', '6.9', '5.8', '2.9', '5.4', '5.9',\n",
       "       '12', '6.3', '10.6', '4.8', '10.9', '15.1', '15', '14.2', '12.2',\n",
       "       '14', '14.9', '32', '14.8', '4.5', '2.7', '12.1', '11', '9',\n",
       "       '10.7', '10.4', '20', '8.2', '19', '9.4', '2.5', '23', '6.7',\n",
       "       '7.3', '11.2', '33.5', '9.5', '8.4', '7.8', '7.7', '9.9', '16.4',\n",
       "       '12.9', '12.4', '14.7', '11.8', '16', '12.3', '11.5', '6.6', '3.1',\n",
       "       '8.3', '9.7', '8.5', '50.0m or longer.', '4.2', '3.6', '8.8',\n",
       "       '3.5', '12.5', '3.7', '9.8', '9.6', '13.8', '4.9', '8.1', '20.7',\n",
       "       '10.8', '8.9', '40', '6.8', '13.4', '1.4', '19.1', '15.6', '15.3',\n",
       "       '17.5', '26', '28', '27', '2.8', '9.3', '20.8', '38', '10.5',\n",
       "       '11.3', '7.2', '3.2', '13.1', '2.6', '13.5', '3.4', '14.6', '14.4',\n",
       "       '18.2', '13.3', '22.4', '8.7', '16.8', '15.5', '12.6', '28.8',\n",
       "       '21', '30', '24', '11.7', '14.3', '39', '7.4', '16.1', '11.1',\n",
       "       '42', '2.3', '37', '17.7', '10.3', '22', '15.2', '18.3', '14.5',\n",
       "       '10.1', '16.5', '17.2', '19.5', '27.5', '16.6', '11.9', '16.3',\n",
       "       '8.6', '19.3', '22.2', '15.8', '14.1', '31', '15.4', '35', '20.3',\n",
       "       '24.3', '13.9', '21.2', '47.6', '34', '12.7', '18.1', '28.5',\n",
       "       '22.6', '23.6', '41.5', '27.8', '18.8', '16.9', '21.7', '26.5',\n",
       "       '15.9', '36', '23.5', '19.9', '24.5', '28.4', '22.5', '17.4',\n",
       "       '2.1', '3.3', '21.6', '16.7', '18.5', '1.8', '19.2', '40.4',\n",
       "       '48.3', '17.6', '27.7', '27.3', '17.9', '18.4', '2.4', '24.4',\n",
       "       '21.5', '15.7', '20.2', '20.6', '44.7', '23.9', '27.9', '17.3',\n",
       "       '22.7', '35.2', '41.8', '16.2', '25.5', '44', '17.1', '2.2', '47',\n",
       "       '19.8', '21.4', '18.9', '20.5', '31.8', '21.1', '35.1', '23.1',\n",
       "       '13.6', '1.3', '45', '25.3', '19.7', '29.7', '1', '23.2', '32.3',\n",
       "       '46.5', '26.2', '18.6', '22.1', '46', '28.6', '29.5', '41', '1.9',\n",
       "       '24.6', '37.5', '43', '30.8', '48', '32.2', '23.3', '18.7', '38.5',\n",
       "       '22.8', '30.7', '27.4', '34.1', '1.5', '32.1', '20.9', '26.6',\n",
       "       '34.5', '26.4', '44.3', '21.9', '22.3', '19.6', '33', '32.5',\n",
       "       '31.7', '19.4', '20.4', '39.5', '33.8', '28.7', '40.2', '23.8',\n",
       "       '24.8', '49', '21.3', '26.3', '32.8', '37.4', '37.2', '41.6',\n",
       "       '1.2', '24.9', '26.1', '35.6', '32.9', '21.8', '29.6', '30.5',\n",
       "       '26.7', '30.6', '27.6', '25.4', '36.5', '37.8', '36.9', '30.9',\n",
       "       '31.6', '28.3', '26.9', '34.3', '33.3', '24.1', '29.4', '29.1',\n",
       "       '23.4', '25.8', '35.7', '48.5', '35.9', '22.9', '46.3', '43.2',\n",
       "       '31.5', '20.1', '27.2', '23.7', '42.7', '41.3', '43.5', '47.1',\n",
       "       '30.3', '44.5', '37.9', '36.4', '25.1', '37.6', '40.5', '39.1',\n",
       "       '25.7', '27.1', '42.2', '32.6', '35.3', '40.3', '25.2', '31.4',\n",
       "       '24.7', '35.5', '37.7', '33.7', '35.8', '1.6', '33.6', '40.9',\n",
       "       '49.4', '46.6', '40.7', '29.8', '34.7', '33.9', '1.7', '33.2',\n",
       "       '35.4', '29.3', '30.2', '24.2', '49.5', '26.8', '44.2', '28.1',\n",
       "       '34.8', '47.3', '39.4', '0.9', '33.4', '36.8', '44.4', '40.8',\n",
       "       '38.9', '28.2', '36.3', '38.2', '41.1', '0.7', '29.9', '29.2',\n",
       "       '40.6', '48.4', '37.1', '34.2', '40.1', '45.4', '45.6', '0.8',\n",
       "       '32.4', '25.9', '43.6', '34.6', '47.8', '25.6', '39.3', '31.1',\n",
       "       '47.5', '38.6', '36.6', '43.8', '38.3', '46.1', '31.2', '43.7',\n",
       "       '38.7', '49.3', '38.1', '46.7', '39.6', '30.4', '28.9', '49.8',\n",
       "       '42.8', '46.2', '43.9', '38.8', '45.1', '41.4', '45.5', '44.6',\n",
       "       '36.1', '43.3', '45.8', '46.8', '42.5', '34.9', '41.2', '48.6',\n",
       "       '31.9', '49.6', '30.1', '45.7', '44.8', '41.7', '36.7', '47.2',\n",
       "       '47.7', '48.8', '39.7', '37.3', '42.3', '48.2', '46.4', '38.4',\n",
       "       '42.4', '39.2', '49.7', '39.8', '31.3', '43.4', '45.2', '45.3',\n",
       "       '41.9', '34.4', '48.9', '36.2', '32.7', '42.6', '49.9', '1.1',\n",
       "       '33.1', '42.9', '44.1', '47.4', '39.9', '42.1', '44.9', '47.9',\n",
       "       '45.9', '49.2', '46.9', '48.7', '0.4', '48.1', '43.1', '0.6',\n",
       "       '0.5', '49.1'], dtype=object)"
      ]
     },
     "execution_count": 36,
     "metadata": {},
     "output_type": "execute_result"
    }
   ],
   "source": [
    "df[\"Frontage\"].unique()"
   ]
  },
  {
   "cell_type": "code",
   "execution_count": 37,
   "metadata": {},
   "outputs": [
    {
     "name": "stdout",
     "output_type": "stream",
     "text": [
      "                         Frontage  Total transaction value\n",
      "Frontage                 1.000000                 0.111354\n",
      "Total transaction value  0.111354                 1.000000\n"
     ]
    }
   ],
   "source": [
    "def clean_frontage(value):\n",
    "    if pd.isna(value):  \n",
    "        return np.nan\n",
    "    if isinstance(value, str):\n",
    "        value = value.replace(\"m or longer.\", \"\").strip()  \n",
    "    try:\n",
    "        return float(value)  \n",
    "    except ValueError:\n",
    "        return np.nan  \n",
    "\n",
    "df[\"Frontage\"] = df[\"Frontage\"].apply(clean_frontage)\n",
    "\n",
    "print(df[[\"Frontage\", \"Total transaction value\"]].corr())"
   ]
  },
  {
   "cell_type": "markdown",
   "metadata": {},
   "source": [
    "### Description\n",
    "\n",
    "This column represents the frontage (width of the property facing the road) in meters (m).  \n",
    "\n",
    "- **The correlation between `Frontage` and transaction value is very low (0.111), indicating minimal impact on price.**  \n",
    "- **Location, property size, and other factors are likely more influential than frontage.**  \n",
    "- **To simplify the analysis, this column will be removed.**  "
   ]
  },
  {
   "cell_type": "code",
   "execution_count": 38,
   "metadata": {},
   "outputs": [],
   "source": [
    "df.drop(columns=[\"Frontage\"], inplace=True)"
   ]
  },
  {
   "cell_type": "markdown",
   "metadata": {
    "jp-MarkdownHeadingCollapsed": true
   },
   "source": [
    "## Analysis of `Building : Total floor area`"
   ]
  },
  {
   "cell_type": "code",
   "execution_count": 39,
   "metadata": {},
   "outputs": [
    {
     "data": {
      "text/plain": [
       "array(['90', '1600', '115', '95', '85', '150', '100', '70', nan, '80',\n",
       "       '60', '110', '105', '75', '410', '270', '55', '50', '250', '1100',\n",
       "       '620', '630', '120', '125', '160', '65', '500', '135', '380', '45',\n",
       "       '570', '240', '165', '130', '190', '30', '155', '390', '200',\n",
       "       '175', '210', '140', '280', '840', '910', '180', '170', '145',\n",
       "       '330', '320', '220', '370', '690', '400', '420', '310', '430',\n",
       "       '340', '20', '490', '580', '1300', '460', '670', '450', '260',\n",
       "       '35', '700', '1200', '1000', '920', '810', '40', '230', '610',\n",
       "       '790', '660', '1800', '185', '195', '750', '300', '590', '25',\n",
       "       '510', '770', '940', '540', '440', '600', '290', '480', '530',\n",
       "       '2,000 ‡u or greater.', '1400', '680', '850', '550', '960', '350',\n",
       "       '820', '780', '930', '520', '830', '1500', '360', '740', '640',\n",
       "       '760', '720', '900', '880', '470', '890', '15', '710', '870',\n",
       "       '560', '1700', '730', '1900', '650', '950', '980', '970', '10',\n",
       "       '990', '860', '800', 'less than 10 ‡u.'], dtype=object)"
      ]
     },
     "execution_count": 39,
     "metadata": {},
     "output_type": "execute_result"
    }
   ],
   "source": [
    "df[\"Building : Total floor area\"].unique()"
   ]
  },
  {
   "cell_type": "markdown",
   "metadata": {},
   "source": [
    "### Description\n",
    "\n",
    "This column represents the total floor area of the building in square meters (m²).  \n",
    "\n",
    "- **Building size is a key factor influencing real estate prices.**  \n",
    "- **To ensure consistency, floor area is categorized into five groups:**  \n",
    "  - **Very Small (≤30 m²)** → Tiny homes, studio units.  \n",
    "  - **Small (31–60 m²)** → Compact urban housing.  \n",
    "  - **Medium (61–100 m²)** → Standard residential homes.  \n",
    "  - **Large (101–200 m²)** → Spacious suburban homes.  \n",
    "  - **Very Large (200+ m²)** → Luxury houses, multi-family residences.  \n",
    "- **Non-numeric values (e.g., \"2,000 ‡u or greater.\") are converted to appropriate categories.**  \n",
    "\n",
    "**→ The original numeric values are replaced with categorical groups for better analysis.**\n"
   ]
  },
  {
   "cell_type": "code",
   "execution_count": 40,
   "metadata": {},
   "outputs": [],
   "source": [
    "# Convert 'Building : Total floor area' to categorical groups\n",
    "def categorize_floor_area(area):\n",
    "    if pd.isna(area):\n",
    "        return np.nan  # Keep NaN as it is\n",
    "    if isinstance(area, str):\n",
    "        # Handle special cases\n",
    "        if \"less than 10\" in area:\n",
    "            return \"Very Small\"\n",
    "        elif \"2,000\" in area:\n",
    "            return \"Very Large\"\n",
    "        # Remove non-numeric characters and convert to float\n",
    "        area = float(area.replace(\",\", \"\").split()[0])  \n",
    "    else:\n",
    "        area = float(area)\n",
    "\n",
    "    # Categorization\n",
    "    if area <= 30:\n",
    "        return \"Very Small\"\n",
    "    elif area <= 60:\n",
    "        return \"Small\"\n",
    "    elif area <= 100:\n",
    "        return \"Medium\"\n",
    "    elif area <= 200:\n",
    "        return \"Large\"\n",
    "    else:\n",
    "        return \"Very Large\"\n",
    "\n",
    "# Apply function and create a new column\n",
    "df[\"Building Size Category\"] = df[\"Building : Total floor area\"].apply(categorize_floor_area)\n",
    "\n",
    "# Drop the original column if no longer needed\n",
    "df.drop(columns=[\"Building : Total floor area\"], inplace=True)"
   ]
  },
  {
   "cell_type": "markdown",
   "metadata": {
    "jp-MarkdownHeadingCollapsed": true
   },
   "source": [
    "## Analysis of `Building : Construction year`"
   ]
  },
  {
   "cell_type": "code",
   "execution_count": 41,
   "metadata": {},
   "outputs": [
    {
     "data": {
      "text/plain": [
       "array(['2020', '1998', '2022', '2008', '1991', '1979', '2003', '1996',\n",
       "       '2021', '1971', '2019', '1994', '1986', '1997', '2002', '1965',\n",
       "       '1972', '1993', '2023', '1976', '2024', '2015', '2017', '1977',\n",
       "       '1984', '2016', '2007', '2001', '1995', '2006', '2018', '1973',\n",
       "       '1987', '1989', '1966', '1974', '1970', '2000', '1954', nan,\n",
       "       '2005', '1968', '2010', '1992', '1967', '1990', '2014', '1969',\n",
       "       '1959', '2013', '1983', '1985', '1958', '1975', '1999', '2009',\n",
       "       'before the war', '1982', '1957', '1964', '1949', '1988', '1981',\n",
       "       '2011', '1978', '2004', '2012', '1953', '1961', '1963', '1980',\n",
       "       '1955', '1962', '1947', '1950', '1956', '1960', '1948', '1951',\n",
       "       '1952', '1946', '2025'], dtype=object)"
      ]
     },
     "execution_count": 41,
     "metadata": {},
     "output_type": "execute_result"
    }
   ],
   "source": [
    "df[\"Building : Construction year\"].unique()"
   ]
  },
  {
   "cell_type": "markdown",
   "metadata": {},
   "source": [
    "### Description\n",
    "\n",
    "This column represents the construction year of the building.  \n",
    "\n",
    "- **Raw construction years are converted into building age (years since construction).**  \n",
    "- **Building age is then categorized into five groups for better analysis:**  \n",
    "  - **New (0-5 years)** → Recently built or nearly new.  \n",
    "  - **Recent (6-15 years)** → Relatively modern buildings.  \n",
    "  - **Moderate (16-30 years)** → Standard residential age.  \n",
    "  - **Old (31-50 years)** → Older properties with possible renovation needs.  \n",
    "  - **Very Old (50+ years)** → Likely to require significant maintenance.  \n",
    "- **Non-numeric values (e.g., \"before the war\") are assumed to be 70+ years old.**  \n",
    "\n",
    "**→ The original `Construction year` column is removed after transformation.**\n"
   ]
  },
  {
   "cell_type": "code",
   "execution_count": 42,
   "metadata": {},
   "outputs": [],
   "source": [
    "# Extract the transaction year from 'Transaction timing'\n",
    "df[\"Year\"] = df[\"Transaction timing\"].str.extract(r'(\\d{4})').astype(int)\n",
    "\n",
    "# Function to calculate building age\n",
    "def calculate_building_age(row):\n",
    "    if pd.isna(row[\"Building : Construction year\"]) or pd.isna(row[\"Year\"]):\n",
    "        return np.nan  # Keep missing values as NaN\n",
    "    if row[\"Building : Construction year\"] == \"before the war\":\n",
    "        return 70  # Assume 70+ years old for pre-war buildings\n",
    "    try:\n",
    "        return row[\"Year\"] - float(row[\"Building : Construction year\"])\n",
    "    except ValueError:\n",
    "        return np.nan  # Convert invalid values to NaN\n",
    "\n",
    "df[\"Building Age\"] = df.apply(calculate_building_age, axis=1)\n",
    "\n",
    "# Function to categorize building age\n",
    "def categorize_building_age(age):\n",
    "    if pd.isna(age):\n",
    "        return np.nan\n",
    "    if age <= 5:\n",
    "        return \"New\"\n",
    "    elif age <= 15:\n",
    "        return \"Recent\"\n",
    "    elif age <= 30:\n",
    "        return \"Moderate\"\n",
    "    elif age <= 50:\n",
    "        return \"Old\"\n",
    "    else:\n",
    "        return \"Very Old\"\n",
    "\n",
    "df[\"Building Age Category\"] = df[\"Building Age\"].apply(categorize_building_age)\n",
    "\n",
    "# Drop original columns if no longer needed\n",
    "df.drop(columns=[\"Year\", \"Building : Construction year\", \"Building Age\"], inplace=True)"
   ]
  },
  {
   "cell_type": "markdown",
   "metadata": {
    "jp-MarkdownHeadingCollapsed": true
   },
   "source": [
    "## Analysis of `Building : Structure`"
   ]
  },
  {
   "cell_type": "code",
   "execution_count": 43,
   "metadata": {},
   "outputs": [
    {
     "data": {
      "text/plain": [
       "array(['W', 'RC', 'LS', 'S', nan, 'RC, S', 'RC, W', 'B', 'SRC', 'S, W',\n",
       "       'S, LS', 'RC, B', 'W, LS', 'B, LS', 'SRC, RC', 'S, B', 'RC, LS',\n",
       "       'W, B', 'RC, W, LS', 'SRC, W', 'S, W, B', 'RC, S, W', 'RC, S, LS',\n",
       "       'SRC, B', 'RC, B, LS', 'RC, W, B', 'W, B, LS', 'S, W, LS',\n",
       "       'SRC, S', 'SRC, W, B', 'RC, S, B', 'S, B, LS'], dtype=object)"
      ]
     },
     "execution_count": 43,
     "metadata": {},
     "output_type": "execute_result"
    }
   ],
   "source": [
    "df[\"Building : Structure\"].unique()"
   ]
  },
  {
   "cell_type": "markdown",
   "metadata": {},
   "source": [
    "### Description\n",
    "\n",
    "This column represents the building structure type, originally containing multiple detailed categories (e.g., \"RC\", \"W\", \"S\", \"SRC\").  \n",
    "\n",
    "- **To simplify the analysis, the structure types have been grouped into three main categories:**  \n",
    "  - **Concrete (RC, SRC)** → Reinforced concrete buildings, often used in high-rise apartments and commercial buildings.  \n",
    "  - **Wood (W)** → Traditional wooden houses, common in residential areas.  \n",
    "  - **Steel (S)** → Steel-framed buildings, offering structural durability.  \n",
    "  - **Other** → Less common structures such as brick (`B`) or mixed types.  \n",
    "- **This transformation allows for a more structured comparison of price differences based on building material.**  \n",
    "- **The original `Building : Structure` column has been removed after conversion.**  \n"
   ]
  },
  {
   "cell_type": "code",
   "execution_count": 44,
   "metadata": {},
   "outputs": [],
   "source": [
    "def simplify_structure(structure):\n",
    "    if pd.isna(structure):\n",
    "        return np.nan  # Keep missing values\n",
    "    if \"RC\" in structure or \"SRC\" in structure:\n",
    "        return \"Concrete\"\n",
    "    elif \"W\" in structure:\n",
    "        return \"Wood\"\n",
    "    elif \"S\" in structure:\n",
    "        return \"Steel\"\n",
    "    else:\n",
    "        return \"Other\"\n",
    "\n",
    "df[\"Building Structure Simplified\"] = df[\"Building : Structure\"].apply(simplify_structure)\n",
    "df.drop(columns=[\"Building : Structure\"], inplace=True)  "
   ]
  },
  {
   "cell_type": "markdown",
   "metadata": {
    "jp-MarkdownHeadingCollapsed": true
   },
   "source": [
    "## Analysis of `Use`"
   ]
  },
  {
   "cell_type": "code",
   "execution_count": 45,
   "metadata": {},
   "outputs": [
    {
     "data": {
      "text/plain": [
       "array(['House', 'Housing Complex', 'Housing Complex, Shop',\n",
       "       'House, Parking Lot', 'Housing Complex, Office, Parking Lot',\n",
       "       'Housing Complex, Factory, Office', 'Workshop', nan,\n",
       "       'House, Other', 'House, Shop',\n",
       "       'House, Housing Complex, Parking Lot', 'Other',\n",
       "       'Housing Complex, Office', 'Housing Complex, Parking Lot',\n",
       "       'Office', 'House, Housing Complex, Office', 'Office, Shop',\n",
       "       'House, Office', 'House, Housing Complex', 'House, Warehouse',\n",
       "       'Housing Complex, Other', 'House, Housing Complex, Shop',\n",
       "       'Housing Complex, Office, Shop', 'House, Parking Lot, Other',\n",
       "       'Shop', 'Factory', 'Housing Complex, Office, Warehouse, Other',\n",
       "       'House, Office, Warehouse', 'Housing Complex, Factory',\n",
       "       'House, Factory', 'House, Office, Parking Lot',\n",
       "       'Office, Parking Lot', 'Warehouse',\n",
       "       'House, Housing Complex, Parking Lot, Shop', 'House, Workshop',\n",
       "       'Office, Warehouse', 'Factory, Office',\n",
       "       'House, Workshop, Parking Lot', 'House, Warehouse, Parking Lot',\n",
       "       'Office, Warehouse, Parking Lot', 'Housing Complex, Warehouse',\n",
       "       'Office, Workshop', 'Housing Complex, Office, Warehouse',\n",
       "       'Parking Lot', 'Housing Complex, Office, Parking Lot, Shop',\n",
       "       'Parking Lot, Other', 'Office, Other', 'House, Office, Workshop',\n",
       "       'House, Warehouse, Shop', 'Workshop, Shop',\n",
       "       'Housing Complex, Parking Lot, Other', 'House, Office, Shop',\n",
       "       'Shop, Other', 'Housing Complex, Warehouse, Shop',\n",
       "       'Office, Workshop, Parking Lot', 'Workshop, Warehouse',\n",
       "       'House, Parking Lot, Shop', 'House, Housing Complex, Warehouse',\n",
       "       'Factory, Office, Warehouse',\n",
       "       'House, Housing Complex, Office, Shop',\n",
       "       'Housing Complex, Office, Workshop', 'Office, Warehouse, Shop',\n",
       "       'Housing Complex, Parking Lot, Shop',\n",
       "       'House, Office, Workshop, Warehouse',\n",
       "       'Office, Workshop, Warehouse', 'House, Factory, Office',\n",
       "       'Warehouse, Other', 'Housing Complex, Workshop',\n",
       "       'House, Office, Warehouse, Parking Lot, Other',\n",
       "       'Housing Complex, Shop, Other',\n",
       "       'Office, Workshop, Parking Lot, Other',\n",
       "       'Factory, Warehouse, Parking Lot',\n",
       "       'Housing Complex, Office, Warehouse, Parking Lot',\n",
       "       'House, Shop, Other', 'Parking Lot, Shop, Other',\n",
       "       'Warehouse, Shop', 'Parking Lot, Shop',\n",
       "       'Housing Complex, Office, Warehouse, Shop',\n",
       "       'House, Workshop, Other', 'Workshop, Other',\n",
       "       'House, Office, Parking Lot, Shop',\n",
       "       'House, Office, Workshop, Other',\n",
       "       'House, Office, Warehouse, Other', 'House, Office, Other',\n",
       "       'Office, Parking Lot, Shop', 'Office, Workshop, Warehouse, Shop',\n",
       "       'House, Factory, Workshop', 'Office, Workshop, Shop',\n",
       "       'Office, Warehouse, Other', 'Factory, Warehouse',\n",
       "       'House, Warehouse, Other', 'Workshop, Warehouse, Shop',\n",
       "       'Warehouse, Parking Lot, Shop', 'Warehouse, Parking Lot',\n",
       "       'House, Factory, Office, Warehouse',\n",
       "       'House, Office, Warehouse, Shop',\n",
       "       'House, Factory, Warehouse, Other',\n",
       "       'House, Office, Warehouse, Parking Lot',\n",
       "       'Factory, Warehouse, Shop',\n",
       "       'Housing Complex, Factory, Warehouse, Parking Lot',\n",
       "       'House, Factory, Warehouse', 'Factory, Office, Warehouse, Other',\n",
       "       'Housing Complex, Factory, Shop', 'House, Factory, Shop, Other',\n",
       "       'Factory, Office, Warehouse, Shop',\n",
       "       'Housing Complex, Factory, Warehouse',\n",
       "       'Housing Complex, Parking Lot, Shop, Other',\n",
       "       'House, Housing Complex, Warehouse, Shop',\n",
       "       'Office, Warehouse, Parking Lot, Other',\n",
       "       'House, Housing Complex, Workshop',\n",
       "       'House, Housing Complex, Other', 'Office, Shop, Other',\n",
       "       'Factory, Shop', 'House, Housing Complex, Factory, Parking Lot',\n",
       "       'Factory, Other', 'House, Workshop, Warehouse, Other',\n",
       "       'Housing Complex, Factory, Other', 'House, Workshop, Shop',\n",
       "       'House, Warehouse, Shop, Other', 'House, Office, Shop, Other',\n",
       "       'Office, Workshop, Other', 'House, Office, Workshop, Parking Lot',\n",
       "       'Office, Warehouse, Parking Lot, Shop',\n",
       "       'Housing Complex, Office, Shop, Other',\n",
       "       'House, Housing Complex, Factory, Office, Shop',\n",
       "       'House, Workshop, Warehouse', 'Factory, Office, Other',\n",
       "       'House, Factory, Other', 'Factory, Office, Shop',\n",
       "       'House, Warehouse, Parking Lot, Other', 'Warehouse, Shop, Other',\n",
       "       'House, Factory, Office, Shop', 'Office, Parking Lot, Other',\n",
       "       'Factory, Workshop', 'House, Office, Workshop, Warehouse, Shop',\n",
       "       'Factory, Office, Workshop', 'Office, Workshop, Warehouse, Other',\n",
       "       'House, Warehouse, Parking Lot, Shop',\n",
       "       'Factory, Office, Parking Lot', 'Housing Complex, Workshop, Other',\n",
       "       'Factory, Office, Workshop, Warehouse',\n",
       "       'House, Workshop, Warehouse, Parking Lot, Shop',\n",
       "       'Housing Complex, Office, Other',\n",
       "       'Workshop, Warehouse, Parking Lot',\n",
       "       'House, Workshop, Parking Lot, Shop',\n",
       "       'House, Office, Parking Lot, Other',\n",
       "       'Housing Complex, Warehouse, Other', 'Workshop, Shop, Other',\n",
       "       'Workshop, Parking Lot', 'Warehouse, Parking Lot, Other',\n",
       "       'Housing Complex, Factory, Office, Warehouse, Parking Lot',\n",
       "       'House, Factory, Shop', 'House, Factory, Parking Lot, Other',\n",
       "       'House, Factory, Office, Warehouse, Other',\n",
       "       'House, Housing Complex, Office, Parking Lot',\n",
       "       'Office, Warehouse, Shop, Other',\n",
       "       'House, Housing Complex, Office, Warehouse',\n",
       "       'House, Housing Complex, Factory, Other',\n",
       "       'Factory, Workshop, Warehouse', 'House, Office, Workshop, Shop',\n",
       "       'House, Office, Workshop, Shop, Other',\n",
       "       'Housing Complex, Office, Workshop, Warehouse',\n",
       "       'House, Workshop, Warehouse, Shop', 'Workshop, Warehouse, Other',\n",
       "       'Housing Complex, Workshop, Warehouse',\n",
       "       'House, Housing Complex, Warehouse, Other',\n",
       "       'House, Housing Complex, Office, Other',\n",
       "       'House, Housing Complex, Shop, Other',\n",
       "       'Factory, Office, Workshop, Other',\n",
       "       'House, Parking Lot, Shop, Other',\n",
       "       'Workshop, Warehouse, Parking Lot, Other',\n",
       "       'House, Workshop, Parking Lot, Other', 'Parking Lot, Warehouse',\n",
       "       'Housing Complex, Office, Workshop, Warehouse, Other',\n",
       "       'Factory, Office, Workshop, Warehouse, Other',\n",
       "       'Factory, Parking Lot, Shop',\n",
       "       'House, Housing Complex, Office, Shop, Other',\n",
       "       'Factory, Warehouse, Other', 'House, Factory, Warehouse, Shop',\n",
       "       'Office, Workshop, Warehouse, Parking Lot',\n",
       "       'Housing Complex, Warehouse, Parking Lot',\n",
       "       'Housing Complex, Factory, Office, Warehouse',\n",
       "       'Housing Complex, Office, Workshop, Shop',\n",
       "       'Housing Complex, Warehouse, Shop, Other',\n",
       "       'House, Factory, Office, Warehouse, Parking Lot',\n",
       "       'Factory, Parking Lot', 'Workshop, Parking Lot, Shop',\n",
       "       'Factory, Parking Lot, Other',\n",
       "       'Housing Complex, Office, Warehouse, Shop, Other',\n",
       "       'House, Housing Complex, Warehouse, Parking Lot',\n",
       "       'House, Factory, Office, Other', 'House, Housing Complex, Factory',\n",
       "       'House, Office, Warehouse, Parking Lot, Shop',\n",
       "       'House, Workshop, Warehouse, Parking Lot',\n",
       "       'Housing Complex, Office, Workshop, Other', 'Factory, Shop, Other',\n",
       "       'House, Workshop, Shop, Other',\n",
       "       'House, Housing Complex, Factory, Office, Warehouse',\n",
       "       'House, Factory, Workshop, Shop',\n",
       "       'Housing Complex, Factory, Workshop, Shop',\n",
       "       'House, Factory, Office, Workshop, Warehouse',\n",
       "       'House, Housing Complex, Factory, Office',\n",
       "       'House, Housing Complex, Office, Workshop',\n",
       "       'Housing Complex, Workshop, Parking Lot',\n",
       "       'Housing Complex, Office, Parking Lot, Other',\n",
       "       'House, Factory, Office, Parking Lot',\n",
       "       'House, Housing Complex, Parking Lot, Other',\n",
       "       'House, Factory, Parking Lot',\n",
       "       'Factory, Office, Warehouse, Parking Lot',\n",
       "       'Housing Complex, Factory, Office, Parking Lot',\n",
       "       'Housing Complex, Factory, Parking Lot',\n",
       "       'House, Housing Complex, Factory, Warehouse',\n",
       "       'Housing Complex, Factory, Office, Other',\n",
       "       'House, Housing Complex, Office, Warehouse, Shop',\n",
       "       'House, Factory, Office, Workshop, Other',\n",
       "       'Housing Complex, Factory, Workshop',\n",
       "       'House, Office, Workshop, Warehouse, Parking Lot',\n",
       "       'House, Office, Workshop, Warehouse, Other',\n",
       "       'Housing Complex, Factory, Office, Parking Lot, Shop',\n",
       "       'Housing Complex, Workshop, Shop',\n",
       "       'House, Warehouse, Parking Lot, Shop, Other',\n",
       "       'Factory, Office, Shop, Other', 'House, Factory, Office, Workshop',\n",
       "       'Factory, Office, Parking Lot, Other',\n",
       "       'House, Office, Workshop, Parking Lot, Other',\n",
       "       'Office, Workshop, Shop, Other',\n",
       "       'House, Factory, Office, Shop, Other',\n",
       "       'Workshop, Warehouse, Parking Lot, Shop',\n",
       "       'House, Housing Complex, Office, Parking Lot, Shop',\n",
       "       'House, Factory, Office, Workshop, Shop',\n",
       "       'House, Housing Complex, Office, Warehouse, Parking Lot',\n",
       "       'Housing Complex, Office, Workshop, Warehouse, Shop',\n",
       "       'House, Housing Complex, Office, Workshop, Parking Lot',\n",
       "       'Housing Complex, Warehouse, Parking Lot, Other',\n",
       "       'House, Office, Warehouse, Shop, Other',\n",
       "       'Housing Complex, Workshop, Warehouse, Shop',\n",
       "       'Housing Complex, Warehouse, Parking Lot, Shop',\n",
       "       'House, Housing Complex, Workshop, Shop',\n",
       "       'Housing Complex, Office, Warehouse, Parking Lot, Shop',\n",
       "       'Housing Complex, Office, Workshop, Parking Lot',\n",
       "       'Housing Complex, Workshop, Warehouse, Parking Lot',\n",
       "       'Housing Complex, Factory, Office, Warehouse, Other',\n",
       "       'House, Housing Complex, Factory, Workshop',\n",
       "       'Housing Complex, Factory, Office, Warehouse, Shop',\n",
       "       'Factory, Office, Warehouse, Parking Lot, Shop',\n",
       "       'Housing Complex, Factory, Office, Shop',\n",
       "       'Factory, Office, Parking Lot, Shop',\n",
       "       'Office, Parking Lot, Shop, Other',\n",
       "       'House, Housing Complex, Workshop, Parking Lot',\n",
       "       'House, Housing Complex, Factory, Shop',\n",
       "       'House, Housing Complex, Workshop, Warehouse',\n",
       "       'Office, Workshop, Warehouse, Parking Lot, Other',\n",
       "       'House, Housing Complex, Office, Workshop, Warehouse',\n",
       "       'Housing Complex, Workshop, Parking Lot, Other',\n",
       "       'Factory, Warehouse, Shop, Other',\n",
       "       'Factory, Office, Warehouse, Parking Lot, Other',\n",
       "       'House, Housing Complex, Warehouse, Shop, Other',\n",
       "       'House, Factory, Office, Warehouse, Shop',\n",
       "       'Office, Workshop, Parking Lot, Shop',\n",
       "       'Housing Complex, Factory, Office, Workshop',\n",
       "       'House, Workshop, Warehouse, Shop, Other',\n",
       "       'House, Factory, Warehouse, Parking Lot',\n",
       "       'Workshop, Warehouse, Shop, Other',\n",
       "       'House, Workshop, Warehouse, Parking Lot, Other'], dtype=object)"
      ]
     },
     "execution_count": 45,
     "metadata": {},
     "output_type": "execute_result"
    }
   ],
   "source": [
    "df[\"Use\"].unique()"
   ]
  },
  {
   "cell_type": "code",
   "execution_count": 46,
   "metadata": {},
   "outputs": [
    {
     "name": "stdout",
     "output_type": "stream",
     "text": [
      "Use Category\n",
      "House              1510095\n",
      "Housing Complex     127345\n",
      "NaN                 126345\n",
      "Mixed-Use            32623\n",
      "Non-Residential      28088\n",
      "Name: count, dtype: int64\n"
     ]
    }
   ],
   "source": [
    "def categorize_use(value):\n",
    "    if pd.isna(value):\n",
    "        return np.nan\n",
    "    if \"House\" in value and \"Housing Complex\" not in value:\n",
    "        return \"House\"\n",
    "    elif \"Housing Complex\" in value:\n",
    "        return \"Housing Complex\"\n",
    "    elif \"Shop\" in value or \"Office\" in value or \"Workshop\" in value:\n",
    "        return \"Mixed-Use\"\n",
    "    else:\n",
    "        return \"Non-Residential\"\n",
    "\n",
    "df[\"Use Category\"] = df[\"Use\"].apply(categorize_use)\n",
    "\n",
    "print(df[\"Use Category\"].value_counts(dropna=False))"
   ]
  },
  {
   "cell_type": "markdown",
   "metadata": {},
   "source": [
    "### Description\n",
    "\n",
    "This column represents the primary use of the property.  \n",
    "\n",
    "- **Grouped into three main categories for simplified analysis:**  \n",
    "  - **House** → Single-family homes.  \n",
    "  - **Housing Complex** → Apartments, condominiums.  \n",
    "  - **Mixed-Use** → Properties that include both residential and commercial spaces.  \n",
    "- **Non-residential properties (e.g., offices, factories) were removed to focus on the residential market.**  \n",
    "- **Missing values (`NaN`) were kept as they are.**  \n",
    "- **The original `Use` column has been replaced with this cleaned version.**  \n"
   ]
  },
  {
   "cell_type": "code",
   "execution_count": 47,
   "metadata": {},
   "outputs": [],
   "source": [
    "df = df[df[\"Use Category\"] != \"Non-Residential\"].copy()\n",
    "df[\"Use\"] = df[\"Use Category\"]\n",
    "df.drop(columns=[\"Use Category\"], inplace=True)"
   ]
  },
  {
   "cell_type": "markdown",
   "metadata": {
    "jp-MarkdownHeadingCollapsed": true
   },
   "source": [
    "## Analysis of `Purpose of use`"
   ]
  },
  {
   "cell_type": "code",
   "execution_count": 48,
   "metadata": {},
   "outputs": [
    {
     "data": {
      "text/plain": [
       "array(['House', 'Other', nan, 'Warehouse', 'Shop', 'Office', 'Factory'],\n",
       "      dtype=object)"
      ]
     },
     "execution_count": 48,
     "metadata": {},
     "output_type": "execute_result"
    }
   ],
   "source": [
    "df[\"Purpose of use\"].unique()"
   ]
  },
  {
   "cell_type": "code",
   "execution_count": 49,
   "metadata": {},
   "outputs": [
    {
     "name": "stdout",
     "output_type": "stream",
     "text": [
      "Purpose of use\n",
      "House        892845\n",
      "NaN          788248\n",
      "Other         77621\n",
      "Office        15718\n",
      "Warehouse     10676\n",
      "Shop           9082\n",
      "Factory        2218\n",
      "Name: count, dtype: int64\n"
     ]
    }
   ],
   "source": [
    "print(df[\"Purpose of use\"].value_counts(dropna=False))"
   ]
  },
  {
   "cell_type": "markdown",
   "metadata": {},
   "source": [
    "### Description\n",
    "\n",
    "This column represents the future use of the property.  \n",
    "\n",
    "- **Only properties with `Purpose of use` as `House` or missing (`NaN`) are retained.**  \n",
    "- **Properties expected to be used as warehouses, factories, offices, or shops were removed.**  \n",
    "- **This ensures that only residential transactions are analyzed, improving data relevance.**  \n",
    "- **The original `Purpose of use` column is removed after filtering.**  "
   ]
  },
  {
   "cell_type": "code",
   "execution_count": 50,
   "metadata": {},
   "outputs": [],
   "source": [
    "df = df[(df[\"Purpose of use\"].isna()) | (df[\"Purpose of use\"] == \"House\")].copy()\n",
    "df.drop(columns=[\"Purpose of use\"], inplace=True)"
   ]
  },
  {
   "cell_type": "markdown",
   "metadata": {
    "jp-MarkdownHeadingCollapsed": true
   },
   "source": [
    "## Analysis of `Frontage road : Direction`"
   ]
  },
  {
   "cell_type": "code",
   "execution_count": 51,
   "metadata": {},
   "outputs": [
    {
     "data": {
      "text/plain": [
       "array(['South', 'East', 'North', 'West', 'Northwest', 'Southeast',\n",
       "       'Northeast', 'Southwest', 'No facing road', nan], dtype=object)"
      ]
     },
     "execution_count": 51,
     "metadata": {},
     "output_type": "execute_result"
    }
   ],
   "source": [
    "df[\"Frontage road : Direction\"].unique()"
   ]
  },
  {
   "cell_type": "markdown",
   "metadata": {},
   "source": [
    "### Description\n",
    "\n",
    "This column represents the direction the property faces in relation to the road.  \n",
    "\n",
    "- **While road orientation may impact property value, it is not a key factor for estimating national average house prices.**  "
   ]
  },
  {
   "cell_type": "code",
   "execution_count": 52,
   "metadata": {},
   "outputs": [],
   "source": [
    "df.drop(columns=[\"Frontage road : Direction\"], inplace=True)"
   ]
  },
  {
   "cell_type": "markdown",
   "metadata": {
    "jp-MarkdownHeadingCollapsed": true
   },
   "source": [
    "## Analysis of `Frontage road : Type`"
   ]
  },
  {
   "cell_type": "code",
   "execution_count": 53,
   "metadata": {},
   "outputs": [
    {
     "data": {
      "text/plain": [
       "array(['City Road', 'Private Road', 'National Road', 'Road',\n",
       "       'Prefectural Road', nan, 'Access Road', 'Town Road', 'Ward Road',\n",
       "       'Village Road', 'Agricultural Road',\n",
       "       'Kyoto/ Osaka Prefectural Road', 'Hokkaido Prefectural Road',\n",
       "       'Forest Road', 'Tokyo Metropolitan Road'], dtype=object)"
      ]
     },
     "execution_count": 53,
     "metadata": {},
     "output_type": "execute_result"
    }
   ],
   "source": [
    "df[\"Frontage road : Type\"].unique()"
   ]
  },
  {
   "cell_type": "markdown",
   "metadata": {},
   "source": [
    "### Description\n",
    "\n",
    "This column represents the type of road the property faces.  \n",
    "\n",
    "- **While road type may influence property value, it is not a key factor in estimating national average house prices.**  \n",
    "- **Since this analysis focuses on overall market trends rather than individual property characteristics, this column is removed.**  \n"
   ]
  },
  {
   "cell_type": "code",
   "execution_count": 54,
   "metadata": {},
   "outputs": [],
   "source": [
    "df.drop(columns=[\"Frontage road : Type\"], inplace=True)"
   ]
  },
  {
   "cell_type": "markdown",
   "metadata": {
    "jp-MarkdownHeadingCollapsed": true
   },
   "source": [
    "## Analysis of `Frontage road : Width`"
   ]
  },
  {
   "cell_type": "code",
   "execution_count": 55,
   "metadata": {},
   "outputs": [
    {
     "data": {
      "text/plain": [
       "array([ 6. ,  8. ,  4. ,  4.1, 15. ,  4.2, 22. ,  3.5,  5. ,  4.4,  4.5,\n",
       "        3.6,  3.8,  7. ,  5.5, 50. , 11. ,  3. ,  6.8,  6.2,  6.3,  4.9,\n",
       "        2.8,  4.7,  3.7, 88. ,  9.8,  2.5,  4.3,  6.7,  8.2,  7.7,  6.4,\n",
       "        8.1,  6.5,  8.4,  7.9,  3.2,  5.9, 12. ,  9.3,  5.8,  5.6, 11.5,\n",
       "       15.2,  1.4, 10. ,  5.7,  2. ,  nan,  1.8,  2.7,  8.7, 15.3,  5.1,\n",
       "       14. ,  3.4,  2.6,  5.3,  7.2, 48. ,  7.6,  7.5,  2.2,  4.8,  9. ,\n",
       "        1.3,  5.2, 27. , 13.9, 30. ,  7.8,  6.1,  1. ,  4.6, 22.6,  2.4,\n",
       "        8.6,  2.3, 18. , 44. , 11.4,  5.4, 28. , 20. ,  9.5, 13. , 10.8,\n",
       "        1.2,  2.9, 14.5, 21. ,  7.1,  3.3, 23. , 24. ,  3.1, 36. , 25. ,\n",
       "        9.4,  9.1, 16. , 35. , 17. ,  1.5, 10.5, 10.2,  6.6,  8.9,  9.7,\n",
       "       11.2,  8.5, 22.5, 14.9, 14.8, 14.6,  1.9,  3.9,  9.2,  8.3, 22.2,\n",
       "        6.9,  2.1, 25.5, 13.5, 26. , 29. ,  8.8, 10.3, 18.4, 12.1,  1.1,\n",
       "        1.6, 70. ,  7.3, 24.8, 66. , 17.5, 34. , 19. , 55. , 26.5,  7.4,\n",
       "        1.7, 40. , 10.1, 21.9, 12.6, 12.5, 12.8, 12.2, 19.1, 37. , 28.5,\n",
       "       11.3, 11.6, 15.5, 10.4, 60. , 14.3, 12.4, 11.7, 15.6, 20.5, 16.5,\n",
       "       16.1, 16.2, 15.4, 25.6, 12.3, 17.2, 16.3, 13.3, 10.7, 17.8, 23.5,\n",
       "       11.8, 37.6, 33. , 19.8, 15.8, 38. , 15.7, 77. , 10.6, 12.7,  9.9,\n",
       "       57. , 29.6, 13.1, 41. , 58. , 18.1, 21.8, 16.9, 10.9, 30.7, 31.1,\n",
       "       19.3, 18.5, 13.8, 13.7, 13.6, 14.4, 11.9, 75. , 31. , 19.9, 15.9,\n",
       "        9.6, 11.1, 14.7, 15.1, 20.2, 17.9, 21.2, 21.6, 54. , 18.6, 13.4,\n",
       "       12.9, 18.2, 27.5, 14.2, 21.5, 56. , 16.4, 18.3, 13.2, 45. , 16.7,\n",
       "       19.5, 25.2, 99. , 21.1, 34.2, 29.4, 23.2, 14.1, 22.1, 19.6, 16.8,\n",
       "       17.6, 40.5, 32.6, 24.6, 21.7, 40.7, 34.8, 24.5, 19.2, 21.4, 52. ,\n",
       "       27.9, 24.4, 32.7, 32.9, 22.8, 23.6, 20.1, 87. , 32.5, 29.9, 68. ,\n",
       "       17.1, 25.1, 17.3, 44.1, 16.6, 68.7, 80. , 20.4, 29.7, 30.5, 23.4,\n",
       "       18.8, 42. , 18.9, 32. , 87.5, 17.7, 20.3, 23.9, 26.7, 25.7, 22.9,\n",
       "       17.4, 26.8, 47.5, 19.7, 22.3, 20.9, 49. , 54.2, 42.8, 29.2, 31.3,\n",
       "       50.1, 30.4, 58.8, 42.5, 42.6, 39. , 24.9, 26.6, 26.9, 28.4, 80.4,\n",
       "       35.2, 34.4, 62. , 20.6, 38.4, 72. , 37.5, 43. , 86. , 83. , 97. ,\n",
       "       94. , 69. , 32.4, 65. , 19.4, 23.7, 73. , 71.2, 25.4, 22.4, 23.8,\n",
       "       47. , 21.3, 35.9, 33.5, 52.6, 26.4, 25.8, 46. , 26.1, 20.7, 24.3,\n",
       "       23.3, 33.6, 20.8, 18.7, 31.5, 22.7, 29.1, 38.5, 27.6, 28.7, 43.5,\n",
       "       62.8, 23.1, 43.2, 25.3, 51.5, 47.4, 29.5, 76. , 59. , 96.8, 26.3,\n",
       "       64. , 27.7, 39.1, 31.2, 27.8, 51. , 63. , 27.4, 24.7, 36.5, 24.2,\n",
       "       62.2, 28.2, 28.9, 34.5, 39.4, 25.9, 32.2, 57.2, 39.3, 40.1, 24.1,\n",
       "       35.5, 41.5, 74. , 39.5, 43.3, 35.7, 30.8, 27.1, 36.4, 41.9, 39.8,\n",
       "       56.2, 39.9, 31.7, 34.6, 53. , 40.2, 46.5, 43.8, 36.3, 33.8, 37.7,\n",
       "       43.9, 27.2, 43.4, 44.5, 56.8, 55.4, 54.4, 30.6, 27.3, 31.6, 42.2,\n",
       "       90. , 36.8, 30.2, 39.2, 38.6, 26.2, 59.5, 98. ])"
      ]
     },
     "execution_count": 55,
     "metadata": {},
     "output_type": "execute_result"
    }
   ],
   "source": [
    "df[\"Frontage road : Width\"].unique()"
   ]
  },
  {
   "cell_type": "markdown",
   "metadata": {},
   "source": [
    "### Description\n",
    "\n",
    "This column represents the width of the road the property faces.  \n",
    "\n",
    "- **While road width can influence property value, it is not a key factor for estimating national average house prices.**  \n",
    "- **Since this analysis focuses on overall market trends rather than individual property characteristics, this column is removed.**  \n"
   ]
  },
  {
   "cell_type": "code",
   "execution_count": 56,
   "metadata": {},
   "outputs": [],
   "source": [
    "df.drop(columns=[\"Frontage road : Width\"], inplace=True)"
   ]
  },
  {
   "cell_type": "markdown",
   "metadata": {
    "jp-MarkdownHeadingCollapsed": true
   },
   "source": [
    "## Analysis of `City planning`"
   ]
  },
  {
   "cell_type": "code",
   "execution_count": 57,
   "metadata": {},
   "outputs": [
    {
     "data": {
      "text/plain": [
       "array(['1 Exc Med', 'Neighborhood Comm', '1 Res', '2 Exc Med',\n",
       "       'Quasi-Res', 'Quasi-Ind', '1 Exc Low', 'Industrial', '2 Exc Low',\n",
       "       '2 Res', 'Commerical', 'Control Area', 'Non-Div', nan, 'Exc Ind',\n",
       "       'Out Plan', 'Quasi Plan'], dtype=object)"
      ]
     },
     "execution_count": 57,
     "metadata": {},
     "output_type": "execute_result"
    }
   ],
   "source": [
    "df[\"City planning\"].unique()"
   ]
  },
  {
   "cell_type": "markdown",
   "metadata": {},
   "source": [
    "### Description\n",
    "\n",
    "This column represents the zoning category under city planning regulations.  \n",
    "\n",
    "- **For a nationwide house price estimate, broader economic and regional factors (e.g., demand, supply, location) have a greater impact than zoning classifications.**  \n",
    "- **Zoning categories like `1 Res`, `Commerical`, or `Industrial` are more relevant for specific local analyses rather than national trends.**  \n",
    "- **Since this study focuses on estimating national average house prices rather than local zoning impacts, this column is removed.** "
   ]
  },
  {
   "cell_type": "code",
   "execution_count": 58,
   "metadata": {},
   "outputs": [],
   "source": [
    "df.drop(columns=[\"City planning\"], inplace=True)"
   ]
  },
  {
   "cell_type": "markdown",
   "metadata": {
    "jp-MarkdownHeadingCollapsed": true
   },
   "source": [
    "## Analysis of `Building coverage ratio`"
   ]
  },
  {
   "cell_type": "code",
   "execution_count": 59,
   "metadata": {},
   "outputs": [
    {
     "data": {
      "text/plain": [
       "array([60., 80., 50., 40., 30., nan, 70.])"
      ]
     },
     "execution_count": 59,
     "metadata": {},
     "output_type": "execute_result"
    }
   ],
   "source": [
    "df[\"Building coverage ratio\"].unique()"
   ]
  },
  {
   "cell_type": "markdown",
   "metadata": {},
   "source": [
    "### Description\n",
    "\n",
    "This column represents the building coverage ratio, which determines the proportion of land that can be occupied by a building.  \n",
    "\n",
    "- **It complements `Floor area ratio`, providing insight into land utilization regulations.**  \n",
    "- **Higher coverage ratios may indicate more valuable land due to increased building potential.**  \n",
    "- **Since this study includes zoning-related factors such as `Floor area ratio`, `Building coverage ratio` is retained for further analysis.**  "
   ]
  },
  {
   "cell_type": "markdown",
   "metadata": {
    "jp-MarkdownHeadingCollapsed": true
   },
   "source": [
    "## Analysis of `Floor area ratio`"
   ]
  },
  {
   "cell_type": "code",
   "execution_count": 60,
   "metadata": {},
   "outputs": [
    {
     "data": {
      "text/plain": [
       "array([ 200.,  300.,  100.,  150.,   80.,  400.,   nan,  500.,  700.,\n",
       "         60.,   50.,  600.,  800., 1300.,  900., 1000., 1200.])"
      ]
     },
     "execution_count": 60,
     "metadata": {},
     "output_type": "execute_result"
    }
   ],
   "source": [
    "df[\"Floor area ratio\"].unique()"
   ]
  },
  {
   "cell_type": "markdown",
   "metadata": {},
   "source": [
    "### Description\n",
    "\n",
    "This column represents the floor area ratio (FAR), which determines the allowable total floor area relative to the land size.  \n",
    "\n",
    "- **It complements `Building coverage ratio`, providing insight into land utilization regulations.**  \n",
    "- **Higher floor area ratios indicate greater building potential, which may influence property values.**  \n",
    "- **Since zoning-related factors are considered in this study, `Floor area ratio` is retained for further analysis.**  \n"
   ]
  },
  {
   "cell_type": "markdown",
   "metadata": {
    "jp-MarkdownHeadingCollapsed": true
   },
   "source": [
    "## Analysis of `Transaction timing`"
   ]
  },
  {
   "cell_type": "code",
   "execution_count": 61,
   "metadata": {},
   "outputs": [
    {
     "data": {
      "text/plain": [
       "array(['2nd quarter 2024', '4th quarter 2023', '1st quarter 2023',\n",
       "       '3rd quarter 2022', '1st quarter 2022', '4th quarter 2021',\n",
       "       '2nd quarter 2021', '1st quarter 2021', '4th quarter 2019',\n",
       "       '3rd quarter 2019', '1st quarter 2019', '2nd quarter 2023',\n",
       "       '3rd quarter 2021', '1st quarter 2020', '2nd quarter 2019',\n",
       "       '1st quarter 2024', '3rd quarter 2023', '2nd quarter 2022',\n",
       "       '4th quarter 2020', '3rd quarter 2020', '3rd quarter 2024',\n",
       "       '4th quarter 2022', '2nd quarter 2020', '3rd quarter 2018',\n",
       "       '2nd quarter 2018', '1st quarter 2018', '4th quarter 2018',\n",
       "       '4th quarter 2014', '1st quarter 2014', '3rd quarter 2014',\n",
       "       '2nd quarter 2014', '4th quarter 2010', '1st quarter 2010',\n",
       "       '3rd quarter 2010', '2nd quarter 2010', '3rd quarter 2017',\n",
       "       '2nd quarter 2017', '1st quarter 2017', '4th quarter 2017',\n",
       "       '3rd quarter 2011', '2nd quarter 2011', '4th quarter 2011',\n",
       "       '1st quarter 2011', '4th quarter 2015', '3rd quarter 2015',\n",
       "       '2nd quarter 2015', '1st quarter 2015', '1st quarter 2012',\n",
       "       '1st quarter 2016', '3rd quarter 2012', '3rd quarter 2016',\n",
       "       '4th quarter 2016', '2nd quarter 2016', '4th quarter 2012',\n",
       "       '2nd quarter 2012', '4th quarter 2013', '3rd quarter 2013',\n",
       "       '2nd quarter 2013', '1st quarter 2013', '4th quarter 2009',\n",
       "       '2nd quarter 2009', '1st quarter 2009', '3rd quarter 2009',\n",
       "       '4th quarter 2008', '3rd quarter 2008', '4th quarter 2007',\n",
       "       '3rd quarter 2007', '2nd quarter 2007', '2nd quarter 2008',\n",
       "       '4th quarter 2006', '3rd quarter 2006', '2nd quarter 2006',\n",
       "       '1st quarter 2008', '1st quarter 2007', '4th quarter 2005',\n",
       "       '1st quarter 2006', '3rd quarter 2005'], dtype=object)"
      ]
     },
     "execution_count": 61,
     "metadata": {},
     "output_type": "execute_result"
    }
   ],
   "source": [
    "df[\"Transaction timing\"].unique()"
   ]
  },
  {
   "cell_type": "markdown",
   "metadata": {},
   "source": [
    "### Description\n",
    "\n",
    "This column represents the year in which the property transaction occurred.  \n",
    "\n",
    "- **Extracted from `Transaction timing`, which originally contained quarterly data (e.g., \"2nd quarter 2024\").**  \n",
    "- **Converted into a simplified format (`Transaction Year`) to facilitate trend analysis over time.**  \n",
    "- **The original `Transaction timing` column was removed after extraction.**  "
   ]
  },
  {
   "cell_type": "code",
   "execution_count": 62,
   "metadata": {},
   "outputs": [],
   "source": [
    "df[\"Transaction Year\"] = df[\"Transaction timing\"].str.extract(r'(\\d{4})').astype(int)\n",
    "df.drop(columns=[\"Transaction timing\"], inplace=True)"
   ]
  },
  {
   "cell_type": "markdown",
   "metadata": {
    "jp-MarkdownHeadingCollapsed": true
   },
   "source": [
    "## Analysis of `Renovation`"
   ]
  },
  {
   "cell_type": "code",
   "execution_count": 63,
   "metadata": {},
   "outputs": [
    {
     "data": {
      "text/plain": [
       "array([nan], dtype=object)"
      ]
     },
     "execution_count": 63,
     "metadata": {},
     "output_type": "execute_result"
    }
   ],
   "source": [
    "df[\"Renovation\"].unique()"
   ]
  },
  {
   "cell_type": "markdown",
   "metadata": {},
   "source": [
    "### Description\n",
    "\n",
    "This column was intended to indicate whether a property had undergone renovations.  \n",
    "\n",
    "- **However, all values are missing (`NaN`), meaning no useful information is available.**  \n",
    "- **Since this column does not contribute to the analysis, it is removed.**  "
   ]
  },
  {
   "cell_type": "code",
   "execution_count": 64,
   "metadata": {},
   "outputs": [],
   "source": [
    "df.drop(columns=[\"Renovation\"], inplace=True)"
   ]
  },
  {
   "cell_type": "markdown",
   "metadata": {
    "jp-MarkdownHeadingCollapsed": true
   },
   "source": [
    "## Analysis of `Transaction factors`"
   ]
  },
  {
   "cell_type": "code",
   "execution_count": 65,
   "metadata": {},
   "outputs": [
    {
     "data": {
      "text/plain": [
       "array([nan, 'Dealings including private road',\n",
       "       'Dealings of adjacent land',\n",
       "       'Dealings in which auction or arbiter participates',\n",
       "       'Dealings between related objects',\n",
       "       'Dealings including private road, Dealings including special circumstances',\n",
       "       'Dealings between related objects, Dealings including private road',\n",
       "       'Dealings in which auction or arbiter participates, Dealings including private road',\n",
       "       'Dealings of adjacent land, Dealings including private road',\n",
       "       'Dealings of real estate that includes wound etc.',\n",
       "       'Dealings including special circumstances',\n",
       "       'Dealings between related objects, Dealings in which auction or arbiter participates',\n",
       "       'Dealings of adjacent land, Dealings in which auction or arbiter participates',\n",
       "       'Dealings including valueless house',\n",
       "       'Dealings of real estate to which mortgage etc. are set',\n",
       "       'Dealings of adjacent land, Dealings between related objects',\n",
       "       'Dealings in which auction or arbiter participates, Dealings of real estate that includes wound etc.',\n",
       "       'Dealings including valueless house, Dealings in which auction or arbiter participates',\n",
       "       'Dealings of real estate that includes wound etc., Dealings including private road',\n",
       "       'Dealings of adjacent land, Dealings in which auction or arbiter participates, Dealings including private road',\n",
       "       'Dealings including valueless house, Dealings including private road',\n",
       "       'Dealings of adjacent land, Dealings between related objects, Dealings including private road',\n",
       "       'Dealings of real estate to which mortgage etc. are set, Dealings including private road',\n",
       "       'Dealings between related objects, Dealings of real estate that includes wound etc.',\n",
       "       'Dealings of adjacent land, Dealings including special circumstances',\n",
       "       'Dealings of adjacent land, Dealings including valueless house',\n",
       "       'Dealings of adjacent land, Dealings including valueless house, Dealings in which auction or arbiter participates',\n",
       "       'Dealings between related objects, Dealings including special circumstances',\n",
       "       'Dealings including valueless house, Dealings of real estate that includes wound etc.',\n",
       "       'Dealings between related objects, Dealings in which auction or arbiter participates, Dealings including private road',\n",
       "       'Dealings in which auction or arbiter participates, Dealings including special circumstances',\n",
       "       'Dealings of real estate to which mortgage etc. are set, Dealings between related objects'],\n",
       "      dtype=object)"
      ]
     },
     "execution_count": 65,
     "metadata": {},
     "output_type": "execute_result"
    }
   ],
   "source": [
    "df[\"Transaction factors\"].unique()"
   ]
  },
  {
   "cell_type": "markdown",
   "metadata": {},
   "source": [
    "### Description\n",
    "\n",
    "This column represents special transaction conditions, such as auctions, adjacent land deals, or private road inclusions.  \n",
    "\n",
    "- **While such factors may affect individual transaction prices, they are not essential for estimating national average house prices.**  \n",
    "- **Since this study focuses on general market trends rather than individual transaction circumstances, this column is removed.**  \n"
   ]
  },
  {
   "cell_type": "code",
   "execution_count": 66,
   "metadata": {},
   "outputs": [],
   "source": [
    "df.drop(columns=[\"Transaction factors\"], inplace=True)"
   ]
  },
  {
   "cell_type": "markdown",
   "metadata": {
    "jp-MarkdownHeadingCollapsed": true
   },
   "source": [
    "## Handling Outliers in Transaction Value"
   ]
  },
  {
   "cell_type": "code",
   "execution_count": 67,
   "metadata": {},
   "outputs": [
    {
     "data": {
      "text/plain": [
       "<Axes: ylabel='Total transaction value'>"
      ]
     },
     "execution_count": 67,
     "metadata": {},
     "output_type": "execute_result"
    },
    {
     "data": {
      "image/png": "[encoded data removed]",
      "text/plain": [
       "<Figure size 640x480 with 1 Axes>"
      ]
     },
     "metadata": {},
     "output_type": "display_data"
    }
   ],
   "source": [
    "sns.boxplot(data=df, y=\"Total transaction value\")"
   ]
  },
  {
   "cell_type": "markdown",
   "metadata": {},
   "source": [
    "### Description\n",
    "\n",
    "The dataset includes a wide range of transaction values, with a **significant presence of high-value transactions**.  \n",
    "These high prices are not necessarily errors but reflect actual real estate market conditions, especially in urban areas.  \n",
    "\n",
    "#### Issues with IQR-Based Outlier Removal:\n",
    "- **Real estate prices follow a right-skewed distribution**  \n",
    "  - Many legitimate high-value transactions exist, especially in metropolitan areas.\n",
    "  - The **IQR method (1.5×IQR rule)** assumes a normal-like distribution and may **unfairly remove** high-value properties.\n",
    "  \n",
    "- **Loss of important price data**  \n",
    "  - Applying IQR filtering removed a **large number of high-value transactions**.\n",
    "  - This led to an **underestimation of actual market prices**, which contradicts the goal of estimating the **true market average**.\n",
    "\n",
    "- **Regional price variations were not considered**  \n",
    "  - The IQR method applies a single threshold across all data.\n",
    "  - Prices in **Tokyo and rural areas differ greatly**, so a **global threshold is inappropriate**.\n",
    "\n",
    "#### Alternative Approach: Percentile-Based Filtering (1st-99th percentile per prefecture)\n",
    "To address these issues, outliers were handled using **a percentile-based approach within each prefecture**:\n",
    "- **Removes extreme values below the 1st percentile and above the 99th percentile per prefecture**.\n",
    "- **Accounts for regional differences**, ensuring both high-value and low-value transactions are fairly represented.\n",
    "- **Preserves important market trends** by keeping valid but high-priced transactions in urban areas.\n",
    "\n",
    "This method allows for a **more reliable estimation of Japan’s average house prices**, minimizing distortion caused by extreme values.\n"
   ]
  },
  {
   "cell_type": "code",
   "execution_count": 68,
   "metadata": {},
   "outputs": [
    {
     "data": {
      "text/plain": [
       "<Axes: ylabel='Total transaction value'>"
      ]
     },
     "execution_count": 68,
     "metadata": {},
     "output_type": "execute_result"
    },
    {
     "data": {
      "image/png": "[encoded data removed]",
      "text/plain": [
       "<Figure size 640x480 with 1 Axes>"
      ]
     },
     "metadata": {},
     "output_type": "display_data"
    }
   ],
   "source": [
    "min_thresholds = df.groupby(\"Prefecture\")[\"Total transaction value\"].quantile(0.01)\n",
    "df = df[df.apply(lambda x: x[\"Total transaction value\"] >= min_thresholds[x[\"Prefecture\"]], axis=1)]\n",
    "\n",
    "max_thresholds = df.groupby(\"Prefecture\")[\"Total transaction value\"].quantile(0.99)\n",
    "df[\"Total transaction value\"] = df.apply(lambda x: min(x[\"Total transaction value\"], max_thresholds[x[\"Prefecture\"]]), axis=1)\n",
    "\n",
    "sns.boxplot(data=df, y=\"Total transaction value\")"
   ]
  },
  {
   "cell_type": "markdown",
   "metadata": {},
   "source": [
    "## Filtering Transaction Year"
   ]
  },
  {
   "cell_type": "code",
   "execution_count": 69,
   "metadata": {},
   "outputs": [
    {
     "data": {
      "image/png": "[encoded data removed]",
      "text/plain": [
       "<Figure size 1200x800 with 2 Axes>"
      ]
     },
     "metadata": {},
     "output_type": "display_data"
    }
   ],
   "source": [
    "yearly_transaction_counts = df.groupby([\"Transaction Year\", \"Prefecture\"]).size().unstack()\n",
    "\n",
    "plt.figure(figsize=(12, 8))\n",
    "sns.heatmap(yearly_transaction_counts, cmap=\"Blues\", linewidths=0.5)\n",
    "plt.xlabel(\"Prefecture\")\n",
    "plt.ylabel(\"Transaction Year\")\n",
    "plt.title(\"Number of Transactions by Year and Prefecture\")\n",
    "plt.show()"
   ]
  },
  {
   "cell_type": "markdown",
   "metadata": {},
   "source": [
    "### Description\n",
    "\n",
    "The distribution of transaction counts across different prefectures reveals a significant disparity between urban and rural areas. This trend is not due to biases in data collection but rather reflects the inherent differences in real estate market activity.\n",
    "\n",
    "- **Urban centers such as Tokyo, Osaka, and Kanagawa** exhibit significantly higher transaction volumes. This is expected due to:\n",
    "  - Higher population density.\n",
    "  - Greater demand for residential properties.\n",
    "  - Increased real estate market liquidity.\n",
    "\n",
    "- **Rural areas like Tottori, Shimane, and Kochi** show fewer transactions, which aligns with:\n",
    "  - Lower population density.\n",
    "  - Reduced demand and slower market turnover.\n",
    "  - Less frequent property development and sales.\n",
    "\n",
    "This variation is a natural outcome of market dynamics and does not indicate an issue with data collection. The observed transaction patterns align with expected real estate activity across different regions of Japan.\n"
   ]
  },
  {
   "cell_type": "code",
   "execution_count": 70,
   "metadata": {},
   "outputs": [
    {
     "data": {
      "text/html": [
       "<div>\n",
       "<style scoped>\n",
       "    .dataframe tbody tr th:only-of-type {\n",
       "        vertical-align: middle;\n",
       "    }\n",
       "\n",
       "    .dataframe tbody tr th {\n",
       "        vertical-align: top;\n",
       "    }\n",
       "\n",
       "    .dataframe thead th {\n",
       "        text-align: right;\n",
       "    }\n",
       "</style>\n",
       "<table border=\"1\" class=\"dataframe\">\n",
       "  <thead>\n",
       "    <tr style=\"text-align: right;\">\n",
       "      <th>Prefecture</th>\n",
       "      <th>Aichi</th>\n",
       "      <th>Akita</th>\n",
       "      <th>Aomori</th>\n",
       "      <th>Chiba</th>\n",
       "      <th>Ehime</th>\n",
       "      <th>Fukui</th>\n",
       "      <th>Fukuoka</th>\n",
       "      <th>Fukushima</th>\n",
       "      <th>Gifu</th>\n",
       "      <th>Gunma</th>\n",
       "      <th>...</th>\n",
       "      <th>Shizuoka</th>\n",
       "      <th>Tochigi</th>\n",
       "      <th>Tokushima</th>\n",
       "      <th>Tokyo</th>\n",
       "      <th>Tottori</th>\n",
       "      <th>Toyama</th>\n",
       "      <th>Wakayama</th>\n",
       "      <th>Yamagata</th>\n",
       "      <th>Yamaguchi</th>\n",
       "      <th>Yamanashi</th>\n",
       "    </tr>\n",
       "    <tr>\n",
       "      <th>Transaction Year</th>\n",
       "      <th></th>\n",
       "      <th></th>\n",
       "      <th></th>\n",
       "      <th></th>\n",
       "      <th></th>\n",
       "      <th></th>\n",
       "      <th></th>\n",
       "      <th></th>\n",
       "      <th></th>\n",
       "      <th></th>\n",
       "      <th></th>\n",
       "      <th></th>\n",
       "      <th></th>\n",
       "      <th></th>\n",
       "      <th></th>\n",
       "      <th></th>\n",
       "      <th></th>\n",
       "      <th></th>\n",
       "      <th></th>\n",
       "      <th></th>\n",
       "      <th></th>\n",
       "    </tr>\n",
       "  </thead>\n",
       "  <tbody>\n",
       "    <tr>\n",
       "      <th>2005</th>\n",
       "      <td>532.0</td>\n",
       "      <td>NaN</td>\n",
       "      <td>NaN</td>\n",
       "      <td>NaN</td>\n",
       "      <td>NaN</td>\n",
       "      <td>NaN</td>\n",
       "      <td>13.0</td>\n",
       "      <td>NaN</td>\n",
       "      <td>426.0</td>\n",
       "      <td>NaN</td>\n",
       "      <td>...</td>\n",
       "      <td>1.0</td>\n",
       "      <td>NaN</td>\n",
       "      <td>NaN</td>\n",
       "      <td>2498.0</td>\n",
       "      <td>NaN</td>\n",
       "      <td>NaN</td>\n",
       "      <td>NaN</td>\n",
       "      <td>NaN</td>\n",
       "      <td>NaN</td>\n",
       "      <td>NaN</td>\n",
       "    </tr>\n",
       "    <tr>\n",
       "      <th>2006</th>\n",
       "      <td>1190.0</td>\n",
       "      <td>1.0</td>\n",
       "      <td>3.0</td>\n",
       "      <td>563.0</td>\n",
       "      <td>1.0</td>\n",
       "      <td>NaN</td>\n",
       "      <td>1879.0</td>\n",
       "      <td>3.0</td>\n",
       "      <td>910.0</td>\n",
       "      <td>NaN</td>\n",
       "      <td>...</td>\n",
       "      <td>267.0</td>\n",
       "      <td>2.0</td>\n",
       "      <td>1.0</td>\n",
       "      <td>5001.0</td>\n",
       "      <td>NaN</td>\n",
       "      <td>NaN</td>\n",
       "      <td>1.0</td>\n",
       "      <td>1.0</td>\n",
       "      <td>1.0</td>\n",
       "      <td>2.0</td>\n",
       "    </tr>\n",
       "    <tr>\n",
       "      <th>2007</th>\n",
       "      <td>3118.0</td>\n",
       "      <td>457.0</td>\n",
       "      <td>616.0</td>\n",
       "      <td>3991.0</td>\n",
       "      <td>532.0</td>\n",
       "      <td>293.0</td>\n",
       "      <td>2560.0</td>\n",
       "      <td>639.0</td>\n",
       "      <td>1197.0</td>\n",
       "      <td>816.0</td>\n",
       "      <td>...</td>\n",
       "      <td>1486.0</td>\n",
       "      <td>876.0</td>\n",
       "      <td>282.0</td>\n",
       "      <td>7292.0</td>\n",
       "      <td>266.0</td>\n",
       "      <td>370.0</td>\n",
       "      <td>427.0</td>\n",
       "      <td>315.0</td>\n",
       "      <td>519.0</td>\n",
       "      <td>406.0</td>\n",
       "    </tr>\n",
       "    <tr>\n",
       "      <th>2008</th>\n",
       "      <td>4038.0</td>\n",
       "      <td>634.0</td>\n",
       "      <td>1013.0</td>\n",
       "      <td>5105.0</td>\n",
       "      <td>716.0</td>\n",
       "      <td>402.0</td>\n",
       "      <td>2491.0</td>\n",
       "      <td>931.0</td>\n",
       "      <td>1338.0</td>\n",
       "      <td>1217.0</td>\n",
       "      <td>...</td>\n",
       "      <td>2144.0</td>\n",
       "      <td>1157.0</td>\n",
       "      <td>376.0</td>\n",
       "      <td>7478.0</td>\n",
       "      <td>372.0</td>\n",
       "      <td>517.0</td>\n",
       "      <td>673.0</td>\n",
       "      <td>540.0</td>\n",
       "      <td>772.0</td>\n",
       "      <td>572.0</td>\n",
       "    </tr>\n",
       "    <tr>\n",
       "      <th>2009</th>\n",
       "      <td>4389.0</td>\n",
       "      <td>684.0</td>\n",
       "      <td>1020.0</td>\n",
       "      <td>5534.0</td>\n",
       "      <td>803.0</td>\n",
       "      <td>421.0</td>\n",
       "      <td>2693.0</td>\n",
       "      <td>985.0</td>\n",
       "      <td>1332.0</td>\n",
       "      <td>1229.0</td>\n",
       "      <td>...</td>\n",
       "      <td>2505.0</td>\n",
       "      <td>1361.0</td>\n",
       "      <td>299.0</td>\n",
       "      <td>8376.0</td>\n",
       "      <td>370.0</td>\n",
       "      <td>657.0</td>\n",
       "      <td>798.0</td>\n",
       "      <td>558.0</td>\n",
       "      <td>888.0</td>\n",
       "      <td>629.0</td>\n",
       "    </tr>\n",
       "    <tr>\n",
       "      <th>2010</th>\n",
       "      <td>5136.0</td>\n",
       "      <td>685.0</td>\n",
       "      <td>1013.0</td>\n",
       "      <td>6170.0</td>\n",
       "      <td>860.0</td>\n",
       "      <td>431.0</td>\n",
       "      <td>3166.0</td>\n",
       "      <td>1125.0</td>\n",
       "      <td>1506.0</td>\n",
       "      <td>1415.0</td>\n",
       "      <td>...</td>\n",
       "      <td>2786.0</td>\n",
       "      <td>1651.0</td>\n",
       "      <td>361.0</td>\n",
       "      <td>9361.0</td>\n",
       "      <td>392.0</td>\n",
       "      <td>633.0</td>\n",
       "      <td>826.0</td>\n",
       "      <td>548.0</td>\n",
       "      <td>915.0</td>\n",
       "      <td>604.0</td>\n",
       "    </tr>\n",
       "    <tr>\n",
       "      <th>2011</th>\n",
       "      <td>5144.0</td>\n",
       "      <td>651.0</td>\n",
       "      <td>834.0</td>\n",
       "      <td>5252.0</td>\n",
       "      <td>790.0</td>\n",
       "      <td>380.0</td>\n",
       "      <td>3242.0</td>\n",
       "      <td>705.0</td>\n",
       "      <td>1404.0</td>\n",
       "      <td>1284.0</td>\n",
       "      <td>...</td>\n",
       "      <td>2617.0</td>\n",
       "      <td>1185.0</td>\n",
       "      <td>320.0</td>\n",
       "      <td>9058.0</td>\n",
       "      <td>332.0</td>\n",
       "      <td>605.0</td>\n",
       "      <td>732.0</td>\n",
       "      <td>568.0</td>\n",
       "      <td>906.0</td>\n",
       "      <td>666.0</td>\n",
       "    </tr>\n",
       "    <tr>\n",
       "      <th>2012</th>\n",
       "      <td>5494.0</td>\n",
       "      <td>636.0</td>\n",
       "      <td>927.0</td>\n",
       "      <td>5869.0</td>\n",
       "      <td>806.0</td>\n",
       "      <td>412.0</td>\n",
       "      <td>3503.0</td>\n",
       "      <td>1315.0</td>\n",
       "      <td>1446.0</td>\n",
       "      <td>1338.0</td>\n",
       "      <td>...</td>\n",
       "      <td>2828.0</td>\n",
       "      <td>1730.0</td>\n",
       "      <td>340.0</td>\n",
       "      <td>9718.0</td>\n",
       "      <td>337.0</td>\n",
       "      <td>613.0</td>\n",
       "      <td>791.0</td>\n",
       "      <td>559.0</td>\n",
       "      <td>1005.0</td>\n",
       "      <td>627.0</td>\n",
       "    </tr>\n",
       "    <tr>\n",
       "      <th>2013</th>\n",
       "      <td>6008.0</td>\n",
       "      <td>663.0</td>\n",
       "      <td>945.0</td>\n",
       "      <td>6293.0</td>\n",
       "      <td>852.0</td>\n",
       "      <td>400.0</td>\n",
       "      <td>3762.0</td>\n",
       "      <td>1410.0</td>\n",
       "      <td>1532.0</td>\n",
       "      <td>1524.0</td>\n",
       "      <td>...</td>\n",
       "      <td>3058.0</td>\n",
       "      <td>1876.0</td>\n",
       "      <td>304.0</td>\n",
       "      <td>10879.0</td>\n",
       "      <td>371.0</td>\n",
       "      <td>658.0</td>\n",
       "      <td>888.0</td>\n",
       "      <td>624.0</td>\n",
       "      <td>993.0</td>\n",
       "      <td>643.0</td>\n",
       "    </tr>\n",
       "    <tr>\n",
       "      <th>2014</th>\n",
       "      <td>5272.0</td>\n",
       "      <td>597.0</td>\n",
       "      <td>780.0</td>\n",
       "      <td>5718.0</td>\n",
       "      <td>744.0</td>\n",
       "      <td>345.0</td>\n",
       "      <td>3356.0</td>\n",
       "      <td>1261.0</td>\n",
       "      <td>1290.0</td>\n",
       "      <td>1374.0</td>\n",
       "      <td>...</td>\n",
       "      <td>2848.0</td>\n",
       "      <td>1611.0</td>\n",
       "      <td>301.0</td>\n",
       "      <td>9642.0</td>\n",
       "      <td>304.0</td>\n",
       "      <td>508.0</td>\n",
       "      <td>694.0</td>\n",
       "      <td>533.0</td>\n",
       "      <td>855.0</td>\n",
       "      <td>576.0</td>\n",
       "    </tr>\n",
       "    <tr>\n",
       "      <th>2015</th>\n",
       "      <td>5393.0</td>\n",
       "      <td>589.0</td>\n",
       "      <td>796.0</td>\n",
       "      <td>6071.0</td>\n",
       "      <td>755.0</td>\n",
       "      <td>337.0</td>\n",
       "      <td>3568.0</td>\n",
       "      <td>1367.0</td>\n",
       "      <td>1271.0</td>\n",
       "      <td>1443.0</td>\n",
       "      <td>...</td>\n",
       "      <td>2912.0</td>\n",
       "      <td>1776.0</td>\n",
       "      <td>307.0</td>\n",
       "      <td>9920.0</td>\n",
       "      <td>287.0</td>\n",
       "      <td>510.0</td>\n",
       "      <td>656.0</td>\n",
       "      <td>563.0</td>\n",
       "      <td>904.0</td>\n",
       "      <td>608.0</td>\n",
       "    </tr>\n",
       "    <tr>\n",
       "      <th>2016</th>\n",
       "      <td>5432.0</td>\n",
       "      <td>581.0</td>\n",
       "      <td>788.0</td>\n",
       "      <td>6049.0</td>\n",
       "      <td>773.0</td>\n",
       "      <td>285.0</td>\n",
       "      <td>3460.0</td>\n",
       "      <td>1207.0</td>\n",
       "      <td>1299.0</td>\n",
       "      <td>1485.0</td>\n",
       "      <td>...</td>\n",
       "      <td>2846.0</td>\n",
       "      <td>1675.0</td>\n",
       "      <td>273.0</td>\n",
       "      <td>9401.0</td>\n",
       "      <td>260.0</td>\n",
       "      <td>571.0</td>\n",
       "      <td>640.0</td>\n",
       "      <td>527.0</td>\n",
       "      <td>899.0</td>\n",
       "      <td>596.0</td>\n",
       "    </tr>\n",
       "    <tr>\n",
       "      <th>2017</th>\n",
       "      <td>5628.0</td>\n",
       "      <td>549.0</td>\n",
       "      <td>805.0</td>\n",
       "      <td>5794.0</td>\n",
       "      <td>802.0</td>\n",
       "      <td>354.0</td>\n",
       "      <td>3445.0</td>\n",
       "      <td>1278.0</td>\n",
       "      <td>1288.0</td>\n",
       "      <td>1402.0</td>\n",
       "      <td>...</td>\n",
       "      <td>2883.0</td>\n",
       "      <td>1766.0</td>\n",
       "      <td>296.0</td>\n",
       "      <td>8818.0</td>\n",
       "      <td>292.0</td>\n",
       "      <td>574.0</td>\n",
       "      <td>682.0</td>\n",
       "      <td>566.0</td>\n",
       "      <td>949.0</td>\n",
       "      <td>593.0</td>\n",
       "    </tr>\n",
       "    <tr>\n",
       "      <th>2018</th>\n",
       "      <td>5583.0</td>\n",
       "      <td>659.0</td>\n",
       "      <td>841.0</td>\n",
       "      <td>5978.0</td>\n",
       "      <td>730.0</td>\n",
       "      <td>384.0</td>\n",
       "      <td>3252.0</td>\n",
       "      <td>1231.0</td>\n",
       "      <td>1124.0</td>\n",
       "      <td>1448.0</td>\n",
       "      <td>...</td>\n",
       "      <td>2768.0</td>\n",
       "      <td>1782.0</td>\n",
       "      <td>317.0</td>\n",
       "      <td>8688.0</td>\n",
       "      <td>245.0</td>\n",
       "      <td>572.0</td>\n",
       "      <td>651.0</td>\n",
       "      <td>555.0</td>\n",
       "      <td>882.0</td>\n",
       "      <td>641.0</td>\n",
       "    </tr>\n",
       "    <tr>\n",
       "      <th>2019</th>\n",
       "      <td>5216.0</td>\n",
       "      <td>655.0</td>\n",
       "      <td>778.0</td>\n",
       "      <td>5634.0</td>\n",
       "      <td>794.0</td>\n",
       "      <td>395.0</td>\n",
       "      <td>3283.0</td>\n",
       "      <td>1090.0</td>\n",
       "      <td>1301.0</td>\n",
       "      <td>1259.0</td>\n",
       "      <td>...</td>\n",
       "      <td>2604.0</td>\n",
       "      <td>1540.0</td>\n",
       "      <td>300.0</td>\n",
       "      <td>8480.0</td>\n",
       "      <td>255.0</td>\n",
       "      <td>531.0</td>\n",
       "      <td>695.0</td>\n",
       "      <td>542.0</td>\n",
       "      <td>924.0</td>\n",
       "      <td>619.0</td>\n",
       "    </tr>\n",
       "    <tr>\n",
       "      <th>2020</th>\n",
       "      <td>6246.0</td>\n",
       "      <td>694.0</td>\n",
       "      <td>891.0</td>\n",
       "      <td>6984.0</td>\n",
       "      <td>809.0</td>\n",
       "      <td>392.0</td>\n",
       "      <td>3936.0</td>\n",
       "      <td>1479.0</td>\n",
       "      <td>1346.0</td>\n",
       "      <td>1624.0</td>\n",
       "      <td>...</td>\n",
       "      <td>3003.0</td>\n",
       "      <td>1860.0</td>\n",
       "      <td>328.0</td>\n",
       "      <td>10643.0</td>\n",
       "      <td>303.0</td>\n",
       "      <td>636.0</td>\n",
       "      <td>703.0</td>\n",
       "      <td>468.0</td>\n",
       "      <td>1052.0</td>\n",
       "      <td>710.0</td>\n",
       "    </tr>\n",
       "    <tr>\n",
       "      <th>2021</th>\n",
       "      <td>5567.0</td>\n",
       "      <td>636.0</td>\n",
       "      <td>887.0</td>\n",
       "      <td>6807.0</td>\n",
       "      <td>830.0</td>\n",
       "      <td>371.0</td>\n",
       "      <td>3801.0</td>\n",
       "      <td>1252.0</td>\n",
       "      <td>1401.0</td>\n",
       "      <td>1538.0</td>\n",
       "      <td>...</td>\n",
       "      <td>2996.0</td>\n",
       "      <td>1777.0</td>\n",
       "      <td>320.0</td>\n",
       "      <td>10489.0</td>\n",
       "      <td>302.0</td>\n",
       "      <td>591.0</td>\n",
       "      <td>730.0</td>\n",
       "      <td>591.0</td>\n",
       "      <td>1024.0</td>\n",
       "      <td>708.0</td>\n",
       "    </tr>\n",
       "    <tr>\n",
       "      <th>2022</th>\n",
       "      <td>4645.0</td>\n",
       "      <td>564.0</td>\n",
       "      <td>776.0</td>\n",
       "      <td>5870.0</td>\n",
       "      <td>724.0</td>\n",
       "      <td>384.0</td>\n",
       "      <td>3269.0</td>\n",
       "      <td>1178.0</td>\n",
       "      <td>1264.0</td>\n",
       "      <td>1401.0</td>\n",
       "      <td>...</td>\n",
       "      <td>2403.0</td>\n",
       "      <td>1586.0</td>\n",
       "      <td>312.0</td>\n",
       "      <td>8325.0</td>\n",
       "      <td>298.0</td>\n",
       "      <td>566.0</td>\n",
       "      <td>633.0</td>\n",
       "      <td>543.0</td>\n",
       "      <td>945.0</td>\n",
       "      <td>669.0</td>\n",
       "    </tr>\n",
       "    <tr>\n",
       "      <th>2023</th>\n",
       "      <td>4458.0</td>\n",
       "      <td>522.0</td>\n",
       "      <td>771.0</td>\n",
       "      <td>5727.0</td>\n",
       "      <td>724.0</td>\n",
       "      <td>379.0</td>\n",
       "      <td>3105.0</td>\n",
       "      <td>1257.0</td>\n",
       "      <td>1271.0</td>\n",
       "      <td>1414.0</td>\n",
       "      <td>...</td>\n",
       "      <td>2609.0</td>\n",
       "      <td>1557.0</td>\n",
       "      <td>309.0</td>\n",
       "      <td>8085.0</td>\n",
       "      <td>310.0</td>\n",
       "      <td>449.0</td>\n",
       "      <td>630.0</td>\n",
       "      <td>578.0</td>\n",
       "      <td>947.0</td>\n",
       "      <td>624.0</td>\n",
       "    </tr>\n",
       "    <tr>\n",
       "      <th>2024</th>\n",
       "      <td>2660.0</td>\n",
       "      <td>294.0</td>\n",
       "      <td>493.0</td>\n",
       "      <td>3521.0</td>\n",
       "      <td>472.0</td>\n",
       "      <td>209.0</td>\n",
       "      <td>1762.0</td>\n",
       "      <td>642.0</td>\n",
       "      <td>835.0</td>\n",
       "      <td>937.0</td>\n",
       "      <td>...</td>\n",
       "      <td>1628.0</td>\n",
       "      <td>1006.0</td>\n",
       "      <td>244.0</td>\n",
       "      <td>4607.0</td>\n",
       "      <td>188.0</td>\n",
       "      <td>250.0</td>\n",
       "      <td>345.0</td>\n",
       "      <td>268.0</td>\n",
       "      <td>530.0</td>\n",
       "      <td>346.0</td>\n",
       "    </tr>\n",
       "  </tbody>\n",
       "</table>\n",
       "<p>20 rows × 47 columns</p>\n",
       "</div>"
      ],
      "text/plain": [
       "Prefecture         Aichi  Akita  Aomori   Chiba  Ehime  Fukui  Fukuoka  \\\n",
       "Transaction Year                                                         \n",
       "2005               532.0    NaN     NaN     NaN    NaN    NaN     13.0   \n",
       "2006              1190.0    1.0     3.0   563.0    1.0    NaN   1879.0   \n",
       "2007              3118.0  457.0   616.0  3991.0  532.0  293.0   2560.0   \n",
       "2008              4038.0  634.0  1013.0  5105.0  716.0  402.0   2491.0   \n",
       "2009              4389.0  684.0  1020.0  5534.0  803.0  421.0   2693.0   \n",
       "2010              5136.0  685.0  1013.0  6170.0  860.0  431.0   3166.0   \n",
       "2011              5144.0  651.0   834.0  5252.0  790.0  380.0   3242.0   \n",
       "2012              5494.0  636.0   927.0  5869.0  806.0  412.0   3503.0   \n",
       "2013              6008.0  663.0   945.0  6293.0  852.0  400.0   3762.0   \n",
       "2014              5272.0  597.0   780.0  5718.0  744.0  345.0   3356.0   \n",
       "2015              5393.0  589.0   796.0  6071.0  755.0  337.0   3568.0   \n",
       "2016              5432.0  581.0   788.0  6049.0  773.0  285.0   3460.0   \n",
       "2017              5628.0  549.0   805.0  5794.0  802.0  354.0   3445.0   \n",
       "2018              5583.0  659.0   841.0  5978.0  730.0  384.0   3252.0   \n",
       "2019              5216.0  655.0   778.0  5634.0  794.0  395.0   3283.0   \n",
       "2020              6246.0  694.0   891.0  6984.0  809.0  392.0   3936.0   \n",
       "2021              5567.0  636.0   887.0  6807.0  830.0  371.0   3801.0   \n",
       "2022              4645.0  564.0   776.0  5870.0  724.0  384.0   3269.0   \n",
       "2023              4458.0  522.0   771.0  5727.0  724.0  379.0   3105.0   \n",
       "2024              2660.0  294.0   493.0  3521.0  472.0  209.0   1762.0   \n",
       "\n",
       "Prefecture        Fukushima    Gifu   Gunma  ...  Shizuoka  Tochigi  \\\n",
       "Transaction Year                             ...                      \n",
       "2005                    NaN   426.0     NaN  ...       1.0      NaN   \n",
       "2006                    3.0   910.0     NaN  ...     267.0      2.0   \n",
       "2007                  639.0  1197.0   816.0  ...    1486.0    876.0   \n",
       "2008                  931.0  1338.0  1217.0  ...    2144.0   1157.0   \n",
       "2009                  985.0  1332.0  1229.0  ...    2505.0   1361.0   \n",
       "2010                 1125.0  1506.0  1415.0  ...    2786.0   1651.0   \n",
       "2011                  705.0  1404.0  1284.0  ...    2617.0   1185.0   \n",
       "2012                 1315.0  1446.0  1338.0  ...    2828.0   1730.0   \n",
       "2013                 1410.0  1532.0  1524.0  ...    3058.0   1876.0   \n",
       "2014                 1261.0  1290.0  1374.0  ...    2848.0   1611.0   \n",
       "2015                 1367.0  1271.0  1443.0  ...    2912.0   1776.0   \n",
       "2016                 1207.0  1299.0  1485.0  ...    2846.0   1675.0   \n",
       "2017                 1278.0  1288.0  1402.0  ...    2883.0   1766.0   \n",
       "2018                 1231.0  1124.0  1448.0  ...    2768.0   1782.0   \n",
       "2019                 1090.0  1301.0  1259.0  ...    2604.0   1540.0   \n",
       "2020                 1479.0  1346.0  1624.0  ...    3003.0   1860.0   \n",
       "2021                 1252.0  1401.0  1538.0  ...    2996.0   1777.0   \n",
       "2022                 1178.0  1264.0  1401.0  ...    2403.0   1586.0   \n",
       "2023                 1257.0  1271.0  1414.0  ...    2609.0   1557.0   \n",
       "2024                  642.0   835.0   937.0  ...    1628.0   1006.0   \n",
       "\n",
       "Prefecture        Tokushima    Tokyo  Tottori  Toyama  Wakayama  Yamagata  \\\n",
       "Transaction Year                                                            \n",
       "2005                    NaN   2498.0      NaN     NaN       NaN       NaN   \n",
       "2006                    1.0   5001.0      NaN     NaN       1.0       1.0   \n",
       "2007                  282.0   7292.0    266.0   370.0     427.0     315.0   \n",
       "2008                  376.0   7478.0    372.0   517.0     673.0     540.0   \n",
       "2009                  299.0   8376.0    370.0   657.0     798.0     558.0   \n",
       "2010                  361.0   9361.0    392.0   633.0     826.0     548.0   \n",
       "2011                  320.0   9058.0    332.0   605.0     732.0     568.0   \n",
       "2012                  340.0   9718.0    337.0   613.0     791.0     559.0   \n",
       "2013                  304.0  10879.0    371.0   658.0     888.0     624.0   \n",
       "2014                  301.0   9642.0    304.0   508.0     694.0     533.0   \n",
       "2015                  307.0   9920.0    287.0   510.0     656.0     563.0   \n",
       "2016                  273.0   9401.0    260.0   571.0     640.0     527.0   \n",
       "2017                  296.0   8818.0    292.0   574.0     682.0     566.0   \n",
       "2018                  317.0   8688.0    245.0   572.0     651.0     555.0   \n",
       "2019                  300.0   8480.0    255.0   531.0     695.0     542.0   \n",
       "2020                  328.0  10643.0    303.0   636.0     703.0     468.0   \n",
       "2021                  320.0  10489.0    302.0   591.0     730.0     591.0   \n",
       "2022                  312.0   8325.0    298.0   566.0     633.0     543.0   \n",
       "2023                  309.0   8085.0    310.0   449.0     630.0     578.0   \n",
       "2024                  244.0   4607.0    188.0   250.0     345.0     268.0   \n",
       "\n",
       "Prefecture        Yamaguchi  Yamanashi  \n",
       "Transaction Year                        \n",
       "2005                    NaN        NaN  \n",
       "2006                    1.0        2.0  \n",
       "2007                  519.0      406.0  \n",
       "2008                  772.0      572.0  \n",
       "2009                  888.0      629.0  \n",
       "2010                  915.0      604.0  \n",
       "2011                  906.0      666.0  \n",
       "2012                 1005.0      627.0  \n",
       "2013                  993.0      643.0  \n",
       "2014                  855.0      576.0  \n",
       "2015                  904.0      608.0  \n",
       "2016                  899.0      596.0  \n",
       "2017                  949.0      593.0  \n",
       "2018                  882.0      641.0  \n",
       "2019                  924.0      619.0  \n",
       "2020                 1052.0      710.0  \n",
       "2021                 1024.0      708.0  \n",
       "2022                  945.0      669.0  \n",
       "2023                  947.0      624.0  \n",
       "2024                  530.0      346.0  \n",
       "\n",
       "[20 rows x 47 columns]"
      ]
     },
     "metadata": {},
     "output_type": "display_data"
    }
   ],
   "source": [
    "display(yearly_transaction_counts)"
   ]
  },
  {
   "cell_type": "code",
   "execution_count": 71,
   "metadata": {},
   "outputs": [
    {
     "data": {
      "text/plain": [
       "Index([2007, 2008, 2009, 2010, 2011, 2012, 2013, 2014, 2015, 2016, 2017, 2018,\n",
       "       2019, 2020, 2021, 2022, 2023],\n",
       "      dtype='int64', name='Transaction Year')"
      ]
     },
     "execution_count": 71,
     "metadata": {},
     "output_type": "execute_result"
    }
   ],
   "source": [
    "df_yearly_transactions = df.groupby([\"Transaction Year\", \"Prefecture\"]).size().unstack()\n",
    "df_yearly_transactions = df_yearly_transactions.dropna()\n",
    "\n",
    "threshold = 200\n",
    "valid_years = df_yearly_transactions.index[df_yearly_transactions.min(axis=1) >= threshold]\n",
    "valid_years"
   ]
  },
  {
   "cell_type": "markdown",
   "metadata": {},
   "source": [
    "### Description\n",
    "\n",
    "To ensure a balance between sufficient data representation and minimizing the impact of long-term market fluctuations, we selected the last five years (2019-2023) for calculating the average transaction value. The following points justify this approach:\n",
    "\n",
    "1. **Ensuring Sufficient Data Volume**\n",
    "   - Years with fewer than 200 transactions across all prefectures were excluded to maintain statistical reliability.\n",
    "   - The 2019-2023 period contains a sufficient number of transactions for meaningful analysis, preventing biases from underrepresented years.\n",
    "\n",
    "2. **Reflecting Recent Market Trends Without Excessive Volatility**\n",
    "   - Using a single year might introduce excessive fluctuations due to short-term economic factors, such as the 2020 COVID-19 impact.\n",
    "   - A 5-year window smooths out short-term price swings while still reflecting current market conditions.\n",
    "\n",
    "3. **Limiting the Effects of Inflation and Long-Term Land Price Changes**\n",
    "   - A longer historical period would capture outdated price trends, making the analysis less relevant to current housing market conditions.\n",
    "   - While inflation and land price variations exist, the impact over a 5-year span is more manageable than over a decade-long period.\n",
    "\n"
   ]
  },
  {
   "cell_type": "code",
   "execution_count": 72,
   "metadata": {},
   "outputs": [
    {
     "data": {
      "text/html": [
       "<div>\n",
       "<style scoped>\n",
       "    .dataframe tbody tr th:only-of-type {\n",
       "        vertical-align: middle;\n",
       "    }\n",
       "\n",
       "    .dataframe tbody tr th {\n",
       "        vertical-align: top;\n",
       "    }\n",
       "\n",
       "    .dataframe thead th {\n",
       "        text-align: right;\n",
       "    }\n",
       "</style>\n",
       "<table border=\"1\" class=\"dataframe\">\n",
       "  <thead>\n",
       "    <tr style=\"text-align: right;\">\n",
       "      <th></th>\n",
       "      <th>Prefecture</th>\n",
       "      <th>Total transaction value</th>\n",
       "      <th>Use</th>\n",
       "      <th>Building coverage ratio</th>\n",
       "      <th>Floor area ratio</th>\n",
       "      <th>Station Distance Category</th>\n",
       "      <th>Area Category</th>\n",
       "      <th>Land Shape Category</th>\n",
       "      <th>Building Size Category</th>\n",
       "      <th>Building Age Category</th>\n",
       "      <th>Building Structure Simplified</th>\n",
       "      <th>Transaction Year</th>\n",
       "    </tr>\n",
       "  </thead>\n",
       "  <tbody>\n",
       "    <tr>\n",
       "      <th>2092</th>\n",
       "      <td>Hyogo</td>\n",
       "      <td>180000000.0</td>\n",
       "      <td>Housing Complex</td>\n",
       "      <td>80.0</td>\n",
       "      <td>300.0</td>\n",
       "      <td>Moderate</td>\n",
       "      <td>Very Large</td>\n",
       "      <td>Regular</td>\n",
       "      <td>Very Large</td>\n",
       "      <td>Moderate</td>\n",
       "      <td>Concrete</td>\n",
       "      <td>2023</td>\n",
       "    </tr>\n",
       "    <tr>\n",
       "      <th>2096</th>\n",
       "      <td>Hyogo</td>\n",
       "      <td>59000000.0</td>\n",
       "      <td>House</td>\n",
       "      <td>60.0</td>\n",
       "      <td>200.0</td>\n",
       "      <td>Close</td>\n",
       "      <td>Medium</td>\n",
       "      <td>Regular</td>\n",
       "      <td>Large</td>\n",
       "      <td>New</td>\n",
       "      <td>Wood</td>\n",
       "      <td>2023</td>\n",
       "    </tr>\n",
       "    <tr>\n",
       "      <th>2098</th>\n",
       "      <td>Hyogo</td>\n",
       "      <td>41000000.0</td>\n",
       "      <td>House</td>\n",
       "      <td>60.0</td>\n",
       "      <td>200.0</td>\n",
       "      <td>Moderate</td>\n",
       "      <td>Large</td>\n",
       "      <td>Irregular</td>\n",
       "      <td>Medium</td>\n",
       "      <td>Recent</td>\n",
       "      <td>Wood</td>\n",
       "      <td>2022</td>\n",
       "    </tr>\n",
       "    <tr>\n",
       "      <th>2102</th>\n",
       "      <td>Hyogo</td>\n",
       "      <td>54000000.0</td>\n",
       "      <td>House</td>\n",
       "      <td>60.0</td>\n",
       "      <td>200.0</td>\n",
       "      <td>Moderate</td>\n",
       "      <td>Large</td>\n",
       "      <td>Regular</td>\n",
       "      <td>Large</td>\n",
       "      <td>Old</td>\n",
       "      <td>Wood</td>\n",
       "      <td>2022</td>\n",
       "    </tr>\n",
       "    <tr>\n",
       "      <th>2103</th>\n",
       "      <td>Hyogo</td>\n",
       "      <td>37000000.0</td>\n",
       "      <td>House</td>\n",
       "      <td>60.0</td>\n",
       "      <td>200.0</td>\n",
       "      <td>Close</td>\n",
       "      <td>Small</td>\n",
       "      <td>Regular</td>\n",
       "      <td>Medium</td>\n",
       "      <td>Moderate</td>\n",
       "      <td>Wood</td>\n",
       "      <td>2022</td>\n",
       "    </tr>\n",
       "    <tr>\n",
       "      <th>...</th>\n",
       "      <td>...</td>\n",
       "      <td>...</td>\n",
       "      <td>...</td>\n",
       "      <td>...</td>\n",
       "      <td>...</td>\n",
       "      <td>...</td>\n",
       "      <td>...</td>\n",
       "      <td>...</td>\n",
       "      <td>...</td>\n",
       "      <td>...</td>\n",
       "      <td>...</td>\n",
       "      <td>...</td>\n",
       "    </tr>\n",
       "    <tr>\n",
       "      <th>5896650</th>\n",
       "      <td>Yamagata</td>\n",
       "      <td>7000000.0</td>\n",
       "      <td>House</td>\n",
       "      <td>60.0</td>\n",
       "      <td>200.0</td>\n",
       "      <td>Moderate</td>\n",
       "      <td>Very Large</td>\n",
       "      <td>Regular</td>\n",
       "      <td>Large</td>\n",
       "      <td>Recent</td>\n",
       "      <td>Wood</td>\n",
       "      <td>2019</td>\n",
       "    </tr>\n",
       "    <tr>\n",
       "      <th>5896651</th>\n",
       "      <td>Yamagata</td>\n",
       "      <td>7000000.0</td>\n",
       "      <td>House</td>\n",
       "      <td>60.0</td>\n",
       "      <td>200.0</td>\n",
       "      <td>Close</td>\n",
       "      <td>Very Large</td>\n",
       "      <td>Irregular</td>\n",
       "      <td>Large</td>\n",
       "      <td>Old</td>\n",
       "      <td>Wood</td>\n",
       "      <td>2019</td>\n",
       "    </tr>\n",
       "    <tr>\n",
       "      <th>5896653</th>\n",
       "      <td>Yamagata</td>\n",
       "      <td>950000.0</td>\n",
       "      <td>House</td>\n",
       "      <td>80.0</td>\n",
       "      <td>200.0</td>\n",
       "      <td>Close</td>\n",
       "      <td>Very Large</td>\n",
       "      <td>Regular</td>\n",
       "      <td>Large</td>\n",
       "      <td>NaN</td>\n",
       "      <td>Wood</td>\n",
       "      <td>2019</td>\n",
       "    </tr>\n",
       "    <tr>\n",
       "      <th>5896682</th>\n",
       "      <td>Yamagata</td>\n",
       "      <td>4800000.0</td>\n",
       "      <td>House</td>\n",
       "      <td>70.0</td>\n",
       "      <td>200.0</td>\n",
       "      <td>Moderate</td>\n",
       "      <td>Very Large</td>\n",
       "      <td>Irregular</td>\n",
       "      <td>Large</td>\n",
       "      <td>Old</td>\n",
       "      <td>Wood</td>\n",
       "      <td>2023</td>\n",
       "    </tr>\n",
       "    <tr>\n",
       "      <th>5896683</th>\n",
       "      <td>Yamagata</td>\n",
       "      <td>8000000.0</td>\n",
       "      <td>House</td>\n",
       "      <td>70.0</td>\n",
       "      <td>200.0</td>\n",
       "      <td>Moderate</td>\n",
       "      <td>Very Large</td>\n",
       "      <td>Irregular</td>\n",
       "      <td>Very Large</td>\n",
       "      <td>Very Old</td>\n",
       "      <td>Wood</td>\n",
       "      <td>2022</td>\n",
       "    </tr>\n",
       "  </tbody>\n",
       "</table>\n",
       "<p>475231 rows × 12 columns</p>\n",
       "</div>"
      ],
      "text/plain": [
       "        Prefecture  Total transaction value              Use  \\\n",
       "2092         Hyogo              180000000.0  Housing Complex   \n",
       "2096         Hyogo               59000000.0            House   \n",
       "2098         Hyogo               41000000.0            House   \n",
       "2102         Hyogo               54000000.0            House   \n",
       "2103         Hyogo               37000000.0            House   \n",
       "...            ...                      ...              ...   \n",
       "5896650   Yamagata                7000000.0            House   \n",
       "5896651   Yamagata                7000000.0            House   \n",
       "5896653   Yamagata                 950000.0            House   \n",
       "5896682   Yamagata                4800000.0            House   \n",
       "5896683   Yamagata                8000000.0            House   \n",
       "\n",
       "         Building coverage ratio  Floor area ratio Station Distance Category  \\\n",
       "2092                        80.0             300.0                  Moderate   \n",
       "2096                        60.0             200.0                     Close   \n",
       "2098                        60.0             200.0                  Moderate   \n",
       "2102                        60.0             200.0                  Moderate   \n",
       "2103                        60.0             200.0                     Close   \n",
       "...                          ...               ...                       ...   \n",
       "5896650                     60.0             200.0                  Moderate   \n",
       "5896651                     60.0             200.0                     Close   \n",
       "5896653                     80.0             200.0                     Close   \n",
       "5896682                     70.0             200.0                  Moderate   \n",
       "5896683                     70.0             200.0                  Moderate   \n",
       "\n",
       "        Area Category Land Shape Category Building Size Category  \\\n",
       "2092       Very Large             Regular             Very Large   \n",
       "2096           Medium             Regular                  Large   \n",
       "2098            Large           Irregular                 Medium   \n",
       "2102            Large             Regular                  Large   \n",
       "2103            Small             Regular                 Medium   \n",
       "...               ...                 ...                    ...   \n",
       "5896650    Very Large             Regular                  Large   \n",
       "5896651    Very Large           Irregular                  Large   \n",
       "5896653    Very Large             Regular                  Large   \n",
       "5896682    Very Large           Irregular                  Large   \n",
       "5896683    Very Large           Irregular             Very Large   \n",
       "\n",
       "        Building Age Category Building Structure Simplified  Transaction Year  \n",
       "2092                 Moderate                      Concrete              2023  \n",
       "2096                      New                          Wood              2023  \n",
       "2098                   Recent                          Wood              2022  \n",
       "2102                      Old                          Wood              2022  \n",
       "2103                 Moderate                          Wood              2022  \n",
       "...                       ...                           ...               ...  \n",
       "5896650                Recent                          Wood              2019  \n",
       "5896651                   Old                          Wood              2019  \n",
       "5896653                   NaN                          Wood              2019  \n",
       "5896682                   Old                          Wood              2023  \n",
       "5896683              Very Old                          Wood              2022  \n",
       "\n",
       "[475231 rows x 12 columns]"
      ]
     },
     "execution_count": 72,
     "metadata": {},
     "output_type": "execute_result"
    }
   ],
   "source": [
    "df = df[df[\"Transaction Year\"].between(2019, 2023)]\n",
    "df"
   ]
  },
  {
   "cell_type": "markdown",
   "metadata": {},
   "source": [
    "# Exporting the Processed Dataframe"
   ]
  },
  {
   "cell_type": "code",
   "execution_count": 73,
   "metadata": {},
   "outputs": [
    {
     "name": "stdout",
     "output_type": "stream",
     "text": [
      "Filtered data saved to ../data/processed/housing_market_japan.csv\n"
     ]
    }
   ],
   "source": [
    "output_path = \"../data/processed/housing_market_japan.csv\"\n",
    "df.to_csv(output_path, index=False, encoding=\"utf-8\")\n",
    "print(f\"Filtered data saved to {output_path}\")"
   ]
  }
 ],
 "metadata": {
  "kernelspec": {
   "display_name": "venv",
   "language": "python",
   "name": "python3"
  },
  "language_info": {
   "codemirror_mode": {
    "name": "ipython",
    "version": 3
   },
   "file_extension": ".py",
   "mimetype": "text/x-python",
   "name": "python",
   "nbconvert_exporter": "python",
   "pygments_lexer": "ipython3",
   "version": "3.11.8"
  }
 },
 "nbformat": 4,
 "nbformat_minor": 4
}
