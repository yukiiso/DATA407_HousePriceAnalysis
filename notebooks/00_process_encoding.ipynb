{
 "cells": [
  {
   "cell_type": "code",
   "execution_count": 6,
   "metadata": {},
   "outputs": [
    {
     "name": "stdout",
     "output_type": "stream",
     "text": [
      "Detected encoding: CP932 for ../data/raw/Shimane Prefecture_20231_20234.csv\n",
      "Saved UTF-8 file: ../data/encoded/Shimane Prefecture_20231_20234.csv\n",
      "Detected encoding: Windows-1252 for ../data/raw/Tokyo_20231_20234_en.csv\n",
      "Saved UTF-8 file: ../data/encoded/Tokyo_20231_20234_en.csv\n"
     ]
    }
   ],
   "source": [
    "import os\n",
    "import chardet\n",
    "import pandas as pd\n",
    "\n",
    "# Specify input (raw data) and output (UTF-8 converted) directories\n",
    "raw_dir = \"../data/raw\"\n",
    "encoded_dir = \"../data/encoded\"\n",
    "\n",
    "# Create the `encoded/` directory if it does not exist\n",
    "os.makedirs(encoded_dir, exist_ok=True)\n",
    "\n",
    "def detect_encoding(file_path, sample_size=10000):\n",
    "    \"\"\"Detect the encoding of a file using chardet.\"\"\"\n",
    "    with open(file_path, \"rb\") as f:\n",
    "        result = chardet.detect(f.read(sample_size))\n",
    "    return result[\"encoding\"]\n",
    "\n",
    "def convert_to_utf8(input_file, output_file):\n",
    "    \"\"\"Detect encoding, read CSV, and save as UTF-8.\"\"\"\n",
    "    # Detect encoding\n",
    "    encoding = detect_encoding(input_file)\n",
    "    print(f\"Detected encoding: {encoding} for {input_file}\")\n",
    "    \n",
    "    df = pd.read_csv(input_file, encoding=encoding)\n",
    "    \n",
    "    # Save as UTF-8\n",
    "    df.to_csv(output_file, encoding=\"utf-8\", index=False)\n",
    "    print(f\"Saved UTF-8 file: {output_file}\")\n",
    "\n",
    "# Convert all CSV files in `raw/` to `encoded/`\n",
    "def process_all_files(raw_dir, encoded_dir):\n",
    "    for filename in os.listdir(raw_dir):\n",
    "        if filename.endswith(\".csv\"):  # Process only CSV files\n",
    "            input_path = os.path.join(raw_dir, filename)\n",
    "            output_path = os.path.join(encoded_dir, filename)\n",
    "            convert_to_utf8(input_path, output_path)\n",
    "\n",
    "# Execute\n",
    "process_all_files(raw_dir, encoded_dir)\n"
   ]
  }
 ],
 "metadata": {
  "kernelspec": {
   "display_name": "Python 3 (ipykernel)",
   "language": "python",
   "name": "python3"
  },
  "language_info": {
   "codemirror_mode": {
    "name": "ipython",
    "version": 3
   },
   "file_extension": ".py",
   "mimetype": "text/x-python",
   "name": "python",
   "nbconvert_exporter": "python",
   "pygments_lexer": "ipython3",
   "version": "3.11.8"
  }
 },
 "nbformat": 4,
 "nbformat_minor": 4
}
